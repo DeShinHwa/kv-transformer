{
 "cells": [
  {
   "cell_type": "code",
   "execution_count": 2,
   "metadata": {},
   "outputs": [],
   "source": [
    "import pandas as pd\n"
   ]
  },
  {
   "cell_type": "code",
   "execution_count": 3,
   "metadata": {},
   "outputs": [],
   "source": [
    "data = pd.read_excel(r\"C:\\Users\\hwade\\OneDrive\\Desktop\\github\\kv-transformer\\Aufgabe_Abrechnung.xlsx\", sheet_name = \"Input\",header=1)\n",
    "data.iloc[4:,0] = pd.to_datetime(data.iloc[4:,0])\n",
    "data.set_index(data.iloc[0:,0], inplace=True)\n",
    "data.iloc[1,5] = pd.to_datetime('2019-12-13 00:00:00')\n"
   ]
  },
  {
   "cell_type": "code",
   "execution_count": null,
   "metadata": {},
   "outputs": [],
   "source": []
  },
  {
   "cell_type": "code",
   "execution_count": 4,
   "metadata": {},
   "outputs": [],
   "source": [
    "def RLM_Rechnung(preis, nf, penalty=False):\n",
    "    bill = (nf*preis).sum()\n",
    "    if penalty:\n",
    "        total_hours = len(preis)\n",
    "        pro_Jahr = total_hours / 365\n",
    "        if pro_Jahr >= 7000 and (preis.stack().nlargest(1000) / preis.sum()).max() > 0.12:\n",
    "            bill *= 1.2 \n",
    "    return bill\n"
   ]
  },
  {
   "cell_type": "code",
   "execution_count": 82,
   "metadata": {},
   "outputs": [
    {
     "data": {
      "text/plain": [
       "[1, 3, 4, 7, 8]"
      ]
     },
     "execution_count": 82,
     "metadata": {},
     "output_type": "execute_result"
    }
   ],
   "source": [
    "def SLP_Rechnung(preis, nf):\n",
    "    return (nf*preis).sum()\n",
    "\n"
   ]
  },
  {
   "cell_type": "code",
   "execution_count": 87,
   "metadata": {},
   "outputs": [
    {
     "name": "stdout",
     "output_type": "stream",
     "text": [
      "[ True  True  True ...  True  True  True]\n",
      "[ True  True  True ...  True  True  True]\n",
      "[ True  True  True ...  True  True  True]\n",
      "[ True  True  True ...  True  True  True]\n",
      "[ True  True  True ...  True False False]\n",
      "[ True  True  True ...  True  True  True]\n",
      "[ True  True  True ... False False False]\n",
      "[False False False ...  True  True  True]\n",
      "[ True  True  True ... False False False]\n",
      "[False False False ... False False False]\n"
     ]
    }
   ],
   "source": [
    "\n",
    "for idx, column in enumerate(data.columns[2:]):  \n",
    "    typ = data[column].iloc[0]\n",
    "    lieferbeginn = pd.to_datetime(data[column].iloc[1])\n",
    "    lieferende = pd.to_datetime(data[column].iloc[2])\n",
    "    idx_lb = data.index.get_loc(lieferbeginn)\n",
    "    idx_le = data.index.get_loc(lieferende)\n",
    "    nf = data[column].iloc[idx_lb:idx_le+1]\n",
    "    preis = data.iloc[idx_lb:idx_le+1,1]\n",
    "    zeitraum = pd.date_range(start = lieferbeginn, end = lieferende, freq = 'h')\n",
    "    zeit_data = pd.DataFrame(range(len(zeitraum)), index = zeitraum )\n",
    "    we_stunden = [ zeit_data.index.dayofweek >= 0] #& (zeit_data.index.hour >= 20)] #and (zeit_data.index.hour < 8)) \n",
    "    "
   ]
  },
  {
   "cell_type": "code",
   "execution_count": 68,
   "metadata": {},
   "outputs": [],
   "source": [
    "def SLPHTNT_Rechnung(preis, nf):\n",
    "    zeitraum = pd.date_range(start = lieferbeginn, end = lieferende, freq = 'h')\n",
    "    zeit_data = pd.DataFrame(range(len(zeitraum)), index = zeitraum )\n",
    "    we_stunden = (zeit_data.index.dayofweek >= 4) & ((zeit_data.index.hour >= 20) & (zeit_data.index.hour < 8))\n",
    "    we_bill = ((nf*preis)[we_stunden]).sum() * (0.9)\n",
    "    return we_bill\n"
   ]
  },
  {
   "cell_type": "code",
   "execution_count": 69,
   "metadata": {},
   "outputs": [
    {
     "name": "stdout",
     "output_type": "stream",
     "text": [
      "Rechnung für K1: 19606.890386338673\n",
      "Rechnung für K2: 0.0\n",
      "Rechnung für K3: 30358.540875013452\n",
      "Rechnung für K4: 5760.358197935899\n",
      "Rechnung für K5: 40485.5278754199\n",
      "Rechnung für K6: 18935.65319591628\n",
      "Rechnung für K7: 28591.533392225432\n",
      "Rechnung für K8: 7787.408165881716\n",
      "Rechnung für K9: 20960.281077370208\n",
      "Rechnung für K10: 39117.910119866836\n"
     ]
    }
   ],
   "source": [
    "for idx, column in enumerate(data.columns[2:]):  \n",
    "    typ = data[column].iloc[0]\n",
    "    lieferbeginn = pd.to_datetime(data[column].iloc[1])\n",
    "    lieferende = pd.to_datetime(data[column].iloc[2])\n",
    "    idx_lb = data.index.get_loc(lieferbeginn)\n",
    "    idx_le = data.index.get_loc(lieferende)\n",
    "    nf = data[column].iloc[idx_lb:idx_le+1]\n",
    "    preis = data.iloc[idx_lb:idx_le+1,1]\n",
    "    if typ == 'RLM':\n",
    "        bill = RLM_Rechnung(preis, nf, penalty=True)\n",
    "    elif typ == 'SLP':\n",
    "        bill = SLP_Rechnung(preis, nf)\n",
    "    elif typ == 'SLP HT' or typ == 'SLP NT':\n",
    "        if idx == 7:  \n",
    "            bill = SLPHTNT_Rechnung_sub(preis, nf) \n",
    "        else:\n",
    "            bill = SLPHTNT_Rechnung(preis, nf)\n",
    "    print(f\"Rechnung für {column}: {bill/1000}\")"
   ]
  },
  {
   "cell_type": "code",
   "execution_count": 46,
   "metadata": {},
   "outputs": [],
   "source": [
    "\n",
    "def SLPHTNT_Rechnung_sub(preis, nf):\n",
    "    zeitraum = pd.date_range(start = lieferbeginn, end = lieferende+pd.Timedelta(hours=1), freq = 'h')\n",
    "    zeit_data = pd.DataFrame(range(len(zeitraum)), index = zeitraum )\n",
    "    we_stunden = (zeit_data.index.dayofweek >= 4) & ((zeit_data.index.hour >= 20) & (zeit_data.index.hour < 8))\n",
    "    we_bill = (nf*preis[we_stunden]).sum() * (0.9)\n",
    "    return (nf*preis).sum() +we_bill\n"
   ]
  },
  {
   "cell_type": "code",
   "execution_count": 50,
   "metadata": {},
   "outputs": [
    {
     "name": "stdout",
     "output_type": "stream",
     "text": [
      "Rechnung für K1: 19606.890386338673\n",
      "Rechnung für K2: 18575.6846825873\n",
      "Rechnung für K3: 30358.540875013452\n",
      "Rechnung für K4: 5760.358197935899\n",
      "Rechnung für K5: 40485.5278754199\n",
      "Rechnung für K6: 18935.65319591628\n",
      "Rechnung für K7: 28591.533392225432\n",
      "Rechnung für K8: 7787.408165881716\n",
      "Rechnung für K9: 20960.281077370208\n",
      "Rechnung für K10: 39117.910119866836\n"
     ]
    }
   ],
   "source": [
    "for idx, column in enumerate(data.columns[2:]):  \n",
    "    typ = data[column].iloc[0]\n",
    "    lieferbeginn = pd.to_datetime(data[column].iloc[1])\n",
    "    lieferende = pd.to_datetime(data[column].iloc[2])\n",
    "    idx_lb = data.index.get_loc(lieferbeginn)\n",
    "    idx_le = data.index.get_loc(lieferende)\n",
    "    nf = data[column].iloc[idx_lb:idx_le+1]\n",
    "    preis = data.iloc[idx_lb:idx_le+1,1]\n",
    "    if typ == 'RLM':\n",
    "        bill = RLM_Rechnung(preis, nf, penalty=True)\n",
    "    elif typ == 'SLP':\n",
    "        bill = SLP_Rechnung(preis, nf)\n",
    "    elif typ == 'SLP HT' or typ == 'SLP NT':\n",
    "        if idx == 7:  \n",
    "            bill = SLPHTNT_Rechnung_sub(preis, nf) \n",
    "        else:\n",
    "            bill = SLPHTNT_Rechnung(preis, nf)\n",
    "    print(f\"Rechnung für {column}: {bill/1000}\")\n"
   ]
  },
  {
   "cell_type": "code",
   "execution_count": 75,
   "metadata": {},
   "outputs": [
    {
     "name": "stdout",
     "output_type": "stream",
     "text": [
      "1\n",
      "1\n",
      "1\n",
      "1\n",
      "1\n",
      "1\n",
      "1\n",
      "Index([2, 2, 2, 2, 3, 3, 3, 3, 3, 3,\n",
      "       ...\n",
      "       5, 5, 5, 5, 5, 5, 5, 5, 5, 5],\n",
      "      dtype='int32', length=3602)\n",
      "Index([2, 2, 2, 2, 3, 3, 3, 3, 3, 3,\n",
      "       ...\n",
      "       5, 5, 5, 5, 5, 5, 5, 5, 5, 5],\n",
      "      dtype='int32', length=3602)\n",
      "Index([2, 2, 2, 2, 3, 3, 3, 3, 3, 3,\n",
      "       ...\n",
      "       5, 5, 5, 5, 5, 5, 5, 5, 5, 5],\n",
      "      dtype='int32', length=3602)\n"
     ]
    }
   ],
   "source": [
    "def SLPHTNT_Rechnung_sub(preis, nf):\n",
    "    zeitraum = pd.date_range(start = lieferbeginn, end = lieferende+pd.Timedelta(hours=1), freq = 'h')\n",
    "    zeit_data = pd.DataFrame(range(len(zeitraum)), index = zeitraum )\n",
    "    we_stunden = (zeit_data.index.dayofweek >= 4) & ((zeit_data.index.hour >= 20) & (zeit_data.index.hour < 8))\n",
    "    we_bill = (nf*preis[we_stunden]).sum() * (0.9)\n",
    "    return zeit_data.index.dayofweek\n",
    "for idx, column in enumerate(data.columns[2:]):  \n",
    "    typ = data[column].iloc[0]\n",
    "    lieferbeginn = pd.to_datetime(data[column].iloc[1])\n",
    "    lieferende = pd.to_datetime(data[column].iloc[2])\n",
    "    idx_lb = data.index.get_loc(lieferbeginn)\n",
    "    idx_le = data.index.get_loc(lieferende)\n",
    "    nf = data[column].iloc[idx_lb:idx_le+1]\n",
    "    preis = data.iloc[idx_lb:idx_le+1,1]\n",
    "    if typ == 'SLP HT' or typ == 'SLP NT':\n",
    "        if idx == 7:  \n",
    "            bill = SLPHTNT_Rechnung_sub(preis, nf) \n",
    "        else:\n",
    "            pass\n",
    "            #bill = SLPHTNT_Rechnung(preis, nf)\n",
    "    print(bill)"
   ]
  },
  {
   "cell_type": "code",
   "execution_count": null,
   "metadata": {},
   "outputs": [],
   "source": []
  }
 ],
 "metadata": {
  "kernelspec": {
   "display_name": "Python 3",
   "language": "python",
   "name": "python3"
  },
  "language_info": {
   "codemirror_mode": {
    "name": "ipython",
    "version": 3
   },
   "file_extension": ".py",
   "mimetype": "text/x-python",
   "name": "python",
   "nbconvert_exporter": "python",
   "pygments_lexer": "ipython3",
   "version": "3.12.2"
  }
 },
 "nbformat": 4,
 "nbformat_minor": 2
}

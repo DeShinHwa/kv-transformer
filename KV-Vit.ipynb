{
 "cells": [
  {
   "cell_type": "code",
   "execution_count": 1,
   "metadata": {},
   "outputs": [],
   "source": [
    "## Standard libraries\n",
    "import os\n",
    "import numpy as np\n",
    "import random\n",
    "import math\n",
    "import json\n",
    "from functools import partial\n",
    "from PIL import Image\n",
    "\n",
    "## tqdm for loading bars\n",
    "from tqdm.notebook import tqdm\n",
    "\n",
    "## PyTorch\n",
    "import torch\n",
    "import torch.nn as nn\n",
    "import torch.nn.functional as F\n",
    "import torch.utils.data as data\n",
    "import torch.optim as optim\n",
    "\n",
    "## Torchvision\n",
    "import torchvision\n",
    "from torchvision.datasets import CIFAR10\n",
    "from torchvision.datasets import CIFAR100\n",
    "\n",
    "from torchvision import transforms\n",
    "\n",
    "\n",
    "\n",
    "import time\n",
    "import os.path\n",
    "import json\n",
    "import pickle\n",
    "from positional_encodings.torch_encodings import PositionalEncoding2D"
   ]
  },
  {
   "cell_type": "code",
   "execution_count": 2,
   "metadata": {},
   "outputs": [],
   "source": [
    "try:\n",
    "    import pytorch_lightning as pl\n",
    "except ModuleNotFoundError: # Google Colab does not have PyTorch Lightning installed by default. Hence, we do it here if necessary\n",
    "    get_ipython().system('pip install --quiet pytorch-lightning>=1.4')\n",
    "    import pytorch_lightning as pl\n",
    "from pytorch_lightning.callbacks import LearningRateMonitor, ModelCheckpoint"
   ]
  },
  {
   "cell_type": "code",
   "execution_count": 3,
   "metadata": {},
   "outputs": [
    {
     "name": "stdout",
     "output_type": "stream",
     "text": [
      "Device: cuda\n"
     ]
    }
   ],
   "source": [
    "DATASET_PATH = \"Dataset\"\n",
    "# Path to the folder where the pretrained models are saved\n",
    "CHECKPOINT_PATH = \"Checkpoint\\KV-ckpt\"\n",
    "\n",
    "# Setting the seed\n",
    "# pl.seed_everything(42)\n",
    "\n",
    "# Ensure that all operations are deterministic on GPU (if used) for reproducibility\n",
    "torch.backends.cudnn.deterministic = True\n",
    "torch.backends.cudnn.benchmark = False\n",
    "\n",
    "device = torch.device(\"cuda\") if torch.cuda.is_available() else torch.device(\"cpu\")\n",
    "print(\"Device:\", device)\n"
   ]
  },
  {
   "cell_type": "code",
   "execution_count": 4,
   "metadata": {},
   "outputs": [
    {
     "name": "stderr",
     "output_type": "stream",
     "text": [
      "Seed set to 42\n"
     ]
    },
    {
     "data": {
      "text/plain": [
       "42"
      ]
     },
     "execution_count": 4,
     "metadata": {},
     "output_type": "execute_result"
    }
   ],
   "source": [
    "pl.seed_everything(42)"
   ]
  },
  {
   "cell_type": "code",
   "execution_count": 5,
   "metadata": {},
   "outputs": [],
   "source": [
    "which_db = 'fashionmnist.'\n",
    "if which_db == 'fashionmnist.':\n",
    "  DOWNLOAD_PATH = DATASET_PATH\n",
    "  BATCH_SIZE_TRAIN = 200\n",
    "  BATCH_SIZE_TEST = 1000\n",
    "\n",
    "  transform_mnist = torchvision.transforms.Compose([torchvision.transforms.ToTensor(),\n",
    "                                torchvision.transforms.Normalize((0.1307,), (0.3081,))])\n",
    "\n",
    "  train_set = torchvision.datasets.FashionMNIST(DOWNLOAD_PATH, train=True, download=True,\n",
    "                                        transform=transform_mnist)\n",
    "  train_loader = torch.utils.data.DataLoader(train_set, batch_size=BATCH_SIZE_TRAIN, shuffle=True)\n",
    "\n",
    "  test_set = torchvision.datasets.FashionMNIST(DOWNLOAD_PATH, train=False, download=True,\n",
    "                                        transform=transform_mnist)\n",
    "\n",
    "  # rename to val !!!!! remmber\n",
    "  val_loader = torch.utils.data.DataLoader(test_set, batch_size=BATCH_SIZE_TEST, shuffle=True)\n",
    "\n",
    "test_loader = val_loader"
   ]
  },
  {
   "cell_type": "code",
   "execution_count": 6,
   "metadata": {},
   "outputs": [],
   "source": [
    "from einops import rearrange"
   ]
  },
  {
   "cell_type": "code",
   "execution_count": 7,
   "metadata": {},
   "outputs": [],
   "source": [
    "class Residual(nn.Module):\n",
    "    def __init__(self, fn):\n",
    "        super().__init__()\n",
    "        self.fn = fn\n",
    "\n",
    "    def forward(self, x, **kwargs):\n",
    "        return self.fn(x, **kwargs) + x\n",
    "\n",
    "class PreNorm(nn.Module):\n",
    "    def __init__(self, dim, fn):\n",
    "        super().__init__()\n",
    "        self.norm = nn.LayerNorm(dim)\n",
    "        self.fn = fn\n",
    "\n",
    "    def forward(self, x, **kwargs):\n",
    "        return self.fn(self.norm(x), **kwargs)\n",
    "\n",
    "class FeedForward(nn.Module):\n",
    "    def __init__(self, dim, hidden_dim):\n",
    "        super().__init__()\n",
    "        self.net = nn.Sequential(\n",
    "            nn.Linear(dim, hidden_dim),\n",
    "            nn.GELU(),\n",
    "            nn.Linear(hidden_dim, dim)\n",
    "        )\n",
    "\n",
    "    def forward(self, x):\n",
    "        return self.net(x)"
   ]
  },
  {
   "cell_type": "code",
   "execution_count": 8,
   "metadata": {},
   "outputs": [],
   "source": [
    "class Attention(nn.Module):\n",
    "    def __init__(self, dim, heads=8):              \n",
    "        super().__init__()\n",
    "        self.heads = heads\n",
    "        self.scale = dim ** -0.5\n",
    "        \n",
    "        self.to_qkv = nn.Linear(dim, dim * 3, bias=False)\n",
    "        self.to_out = nn.Linear(dim, dim)\n",
    "        \n",
    "\n",
    "\n",
    "    def forward(self, x, mask = None):\n",
    "        b, n, _, h = *x.shape, self.heads\n",
    "\n",
    "        qkv = self.to_qkv(x)\n",
    "        q, k, v = rearrange(qkv, 'b n (qkv h d) -> qkv b h n d', qkv=3, h=h)\n",
    "        dots = torch.einsum('bhid,bhjd->bhij', q, k) * self.scale\n",
    "\n",
    "        attn = dots.softmax(dim=-1)\n",
    "        \n",
    "\n",
    "        out = torch.einsum('bhij,bhjd->bhid', attn, v)\n",
    "        out = rearrange(out, 'b h n d -> b n (h d)')\n",
    "        out =  self.to_out(out)\n",
    "        return out"
   ]
  },
  {
   "cell_type": "code",
   "execution_count": 26,
   "metadata": {},
   "outputs": [
    {
     "data": {
      "text/plain": [
       "tensor([[[[0., 0., 0.,  ..., 0., 0., 0.],\n",
       "          [0., 0., 0.,  ..., 0., 0., 0.],\n",
       "          [0., 0., 0.,  ..., 0., 0., 0.],\n",
       "          ...,\n",
       "          [0., 0., 0.,  ..., 0., 0., 0.],\n",
       "          [0., 0., 0.,  ..., 0., 0., 0.],\n",
       "          [0., 0., 0.,  ..., 0., 0., 0.]],\n",
       "\n",
       "         [[0., 0., 0.,  ..., 0., 0., 0.],\n",
       "          [0., 0., 0.,  ..., 0., 0., 0.],\n",
       "          [0., 0., 0.,  ..., 0., 0., 0.],\n",
       "          ...,\n",
       "          [0., 0., 0.,  ..., 0., 0., 0.],\n",
       "          [0., 0., 0.,  ..., 0., 0., 0.],\n",
       "          [0., 0., 0.,  ..., 0., 0., 0.]],\n",
       "\n",
       "         [[0., 0., 0.,  ..., 0., 0., 0.],\n",
       "          [0., 0., 0.,  ..., 0., 0., 0.],\n",
       "          [0., 0., 0.,  ..., 0., 0., 0.],\n",
       "          ...,\n",
       "          [0., 0., 0.,  ..., 0., 0., 0.],\n",
       "          [0., 0., 0.,  ..., 0., 0., 0.],\n",
       "          [0., 0., 0.,  ..., 0., 0., 0.]],\n",
       "\n",
       "         ...,\n",
       "\n",
       "         [[0., 0., 0.,  ..., 0., 0., 0.],\n",
       "          [0., 0., 0.,  ..., 0., 0., 0.],\n",
       "          [0., 0., 0.,  ..., 0., 0., 0.],\n",
       "          ...,\n",
       "          [0., 0., 0.,  ..., 0., 0., 0.],\n",
       "          [0., 0., 0.,  ..., 0., 0., 0.],\n",
       "          [0., 0., 0.,  ..., 0., 0., 0.]],\n",
       "\n",
       "         [[0., 0., 0.,  ..., 0., 0., 0.],\n",
       "          [0., 0., 0.,  ..., 0., 0., 0.],\n",
       "          [0., 0., 0.,  ..., 0., 0., 0.],\n",
       "          ...,\n",
       "          [0., 0., 0.,  ..., 0., 0., 0.],\n",
       "          [0., 0., 0.,  ..., 0., 0., 0.],\n",
       "          [0., 0., 0.,  ..., 0., 0., 0.]],\n",
       "\n",
       "         [[0., 0., 0.,  ..., 0., 0., 0.],\n",
       "          [0., 0., 0.,  ..., 0., 0., 0.],\n",
       "          [0., 0., 0.,  ..., 0., 0., 0.],\n",
       "          ...,\n",
       "          [0., 0., 0.,  ..., 0., 0., 0.],\n",
       "          [0., 0., 0.,  ..., 0., 0., 0.],\n",
       "          [0., 0., 0.,  ..., 0., 0., 0.]]]], device='cuda:0')"
      ]
     },
     "execution_count": 26,
     "metadata": {},
     "output_type": "execute_result"
    }
   ],
   "source": [
    "pos_dim = 50\n",
    "\n",
    "p_enc_2d = PositionalEncoding2D(pos_dim)\n",
    "pos_embeddings = {}\n",
    "#for i in range(1,200):\n",
    "    #for j in range(2,100):    \n",
    "z = torch.zeros(1,100,100,pos_dim)\n",
    "\n",
    "p_enc_2d.to(device)\n",
    "z.to(device)"
   ]
  },
  {
   "cell_type": "code",
   "execution_count": 27,
   "metadata": {},
   "outputs": [],
   "source": [
    "pos_embeddings = p_enc_2d(z.to(device))"
   ]
  },
  {
   "cell_type": "code",
   "execution_count": 28,
   "metadata": {},
   "outputs": [],
   "source": [
    "class Attention_KV(nn.Module):\n",
    "    def __init__(self, dim, heads=8):              \n",
    "        super().__init__()\n",
    "        self.heads = heads\n",
    "        self.scale = dim ** -0.5\n",
    "        \n",
    "        self.to_kv = nn.Linear(dim, dim * 2, bias=False)\n",
    "        self.to_out = nn.Linear(dim, dim)\n",
    "        \n",
    "        self.map_pos = nn.Linear(pos_dim, 1, bias=True)          \n",
    "\n",
    "\n",
    "    def forward(self, x, mask = None):\n",
    "        b, n, _ , h = *x.shape, self.heads\n",
    "\n",
    "        kv = self.to_kv(x)\n",
    "        k, v = rearrange(kv, 'b n (kv h d) -> kv b h n d', kv=2, h=h)\n",
    "        dots = torch.einsum('bhid,bhjd->bhij', k, k) * self.scale\n",
    "\n",
    "        if attn_type == 'kv': # then it is kv-nopos\n",
    "            pos = pos_embeddings[:,:n,:n,:] # 1, m, m, ? \n",
    "            dots = dots.unsqueeze(-1) + pos.unsqueeze(0)\n",
    "            dots = self.map_pos(dots).squeeze(-1)\n",
    "\n",
    "\n",
    "        attn = dots.softmax(dim=-1)\n",
    "        \n",
    "\n",
    "        out = torch.einsum('bhij,bhjd->bhid', attn, v)\n",
    "        out = rearrange(out, 'b h n d -> b n (h d)')\n",
    "        out =  self.to_out(out)\n",
    "        return out"
   ]
  },
  {
   "cell_type": "code",
   "execution_count": 29,
   "metadata": {},
   "outputs": [],
   "source": [
    "class Transformer(nn.Module):\n",
    "    def __init__(self, dim, depth, heads, mlp_dim):              \n",
    "        super().__init__()\n",
    "\n",
    "        self.layers = nn.ModuleList([])\n",
    "\n",
    "        for _ in range(depth):\n",
    "            self.layers.append(nn.ModuleList([\n",
    "                Residual(PreNorm(dim, Attention(dim, heads = heads) if attn_type=='qkv' else  Attention_KV(dim, heads = heads))),\n",
    "                Residual(PreNorm(dim, FeedForward(dim, mlp_dim)))\n",
    "            ]))\n",
    "\n",
    "                \n",
    "\n",
    "    def forward(self, x, mask=None):\n",
    "        for attn, ff in self.layers:\n",
    "            x = attn(x, mask=mask)\n",
    "            x = ff(x)\n",
    "        return x"
   ]
  },
  {
   "cell_type": "code",
   "execution_count": 30,
   "metadata": {},
   "outputs": [],
   "source": [
    "class ViT(pl.LightningModule):\n",
    "  \n",
    "    def __init__(self, model_kwargs, lr):              \n",
    "        super().__init__()\n",
    "\n",
    "        image_size = model_kwargs['image_size']\n",
    "        patch_size = model_kwargs['patch_size']\n",
    "        num_classes = model_kwargs['num_classes']\n",
    "        dim = model_kwargs['dim']\n",
    "        depth=model_kwargs['depth']\n",
    "        heads=model_kwargs['heads']\n",
    "        mlp_dim=model_kwargs['mlp_dim']\n",
    "        channels=model_kwargs['channels']\n",
    "\n",
    "        assert image_size % patch_size == 0, 'image dimensions must be divisible by the patch size'\n",
    "        num_patches = (image_size // patch_size) ** 2\n",
    "        patch_dim = channels * patch_size ** 2\n",
    "\n",
    "        self.patch_size = patch_size\n",
    "\n",
    "        self.pos_embedding = nn.Parameter(torch.randn(1, num_patches + 1, dim))\n",
    "        self.patch_to_embedding = nn.Linear(patch_dim, dim)\n",
    "        self.cls_token = nn.Parameter(torch.randn(1, 1, dim))\n",
    "\n",
    "\n",
    "        self.model = Transformer(dim, depth, heads, mlp_dim)\n",
    "\n",
    "        self.to_cls_token = nn.Identity()\n",
    "\n",
    "        self.mlp_head = nn.Sequential(\n",
    "            nn.Linear(dim, mlp_dim),\n",
    "            nn.GELU(),\n",
    "            nn.Linear(mlp_dim, num_classes)\n",
    "        )\n",
    "\n",
    "\n",
    "        self.save_hyperparameters()\n",
    "        # self.model = VisionTransformer(**model_kwargs)\n",
    "        self.example_input_array = next(iter(train_loader))[0]\n",
    "\n",
    "\n",
    "\n",
    "    def forward(self, img, mask=None):\n",
    "        j = self.patch_size\n",
    "        x = rearrange(img, 'b c (h p1) (w p2) -> b (h w) (p1 p2 c)', p1 = j, p2 = j)\n",
    "        \n",
    "        x = self.patch_to_embedding(x)\n",
    "\n",
    "        cls_tokens = self.cls_token.expand(img.shape[0], -1, -1)\n",
    "        x = torch.cat((cls_tokens, x), dim=1)\n",
    "        x += self.pos_embedding\n",
    "\n",
    "        x = self.model(x, mask)\n",
    "\n",
    "        x = self.to_cls_token(x[:, 0])\n",
    "        return self.mlp_head(x)        \n",
    "\n",
    "\n",
    "\n",
    "\n",
    "    def configure_optimizers(self):\n",
    "        optimizer = optim.AdamW(self.parameters(), lr=self.hparams.lr)\n",
    "        lr_scheduler = optim.lr_scheduler.MultiStepLR(optimizer, milestones=[100,150], gamma=0.1)\n",
    "        return [optimizer], [lr_scheduler]   \n",
    "    \n",
    "    def _calculate_loss(self, batch, mode=\"train\"):\n",
    "        imgs, labels = batch\n",
    "        preds = self.forward(imgs)\n",
    "        loss = F.cross_entropy(preds, labels)\n",
    "        acc = (preds.argmax(dim=-1) == labels).float().mean()\n",
    "        \n",
    "        self.log(f'{mode}_loss', loss)\n",
    "        self.log(f'{mode}_acc', acc)\n",
    "\n",
    "\n",
    "        if mode==\"train\":\n",
    "            results[(attn_type, run_no)]['train_loss_history'].append(loss.item())\n",
    "            results[(attn_type, run_no)]['time_spent'].append(time.time() - start_time)\n",
    "\n",
    "        elif mode==\"val\":\n",
    "            results[(attn_type, run_no)]['val_loss_history'].append(loss.item())       \n",
    "            results[(attn_type, run_no)]['val_time_spent'].append(time.time() - start_time)   \n",
    "\n",
    "\n",
    "        return loss\n",
    "\n",
    "\n",
    "    def training_step(self, batch, batch_idx):\n",
    "        loss = self._calculate_loss(batch, mode=\"train\")\n",
    "        return loss\n",
    "\n",
    "    def validation_step(self, batch, batch_idx):\n",
    "        self._calculate_loss(batch, mode=\"val\")\n",
    "\n",
    "    def test_step(self, batch, batch_idx):\n",
    "        self._calculate_loss(batch, mode=\"test\")\n",
    "\n",
    "\n",
    "\n",
    "def train_model(**kwargs):\n",
    "    trainer = pl.Trainer(default_root_dir=os.path.join(CHECKPOINT_PATH, \"ViT\"), \n",
    "                         accelerator=\"gpu\" if str(device).startswith(\"cuda\") else \"cpu\",\n",
    "                         devices=1,\n",
    "                         max_epochs=num_epochs,\n",
    "                         val_check_interval=0.5,\n",
    "                         callbacks=[ModelCheckpoint(save_weights_only=True, mode=\"max\", monitor=\"val_acc\"),\n",
    "                                    LearningRateMonitor(\"epoch\")])\n",
    "    model = ViT(**kwargs)\n",
    "    trainer.fit(model, train_loader, val_loader)\n",
    "    model = ViT.load_from_checkpoint(trainer.checkpoint_callback.best_model_path) # Load best checkpoint after training\n",
    "\n",
    "    # Test best model on validation and test set\n",
    "    val_result = trainer.test(model, val_loader, verbose=False)\n",
    "    test_result = trainer.test(model, test_loader, verbose=False)\n",
    "    result = {\"test\": test_result[0][\"test_acc\"], \"val\": val_result[0][\"test_acc\"]}\n",
    "\n",
    "    return model, result\n"
   ]
  },
  {
   "cell_type": "code",
   "execution_count": 46,
   "metadata": {},
   "outputs": [],
   "source": [
    "num_epochs = 20\n",
    "num_classes = 10\n",
    "image_size = 28\n",
    "num_channels = 1\n",
    "p_size = 7\n",
    "sequence_length = (image_size // p_size)**2 + 1\n",
    "num_runs = 2\n",
    "d_dim = 128\n",
    "d_depth = 1\n",
    "h_heads = 1\n",
    "lr = 1e-3"
   ]
  },
  {
   "cell_type": "code",
   "execution_count": 43,
   "metadata": {},
   "outputs": [],
   "source": [
    "def run_model():\n",
    "\n",
    "\tglobal attn_type\t\n",
    "\tglobal results\n",
    "\tglobal run_no\n",
    "\tglobal start_time\n",
    "\n",
    "\tresults = {}\n",
    "\t\t\n",
    "\tfor attn_type in ['kv']:\n",
    "\n",
    "\t    \n",
    "\t    for run_no in range(num_runs):\n",
    "                print(f'{which_db}---------- norm type: {attn_type}, run number: {run_no} ------------------------------')\n",
    "            \n",
    "                results[(attn_type, run_no)] = {}\n",
    "                results[(attn_type, run_no)]['time_spent'] = []  \n",
    "                results[(attn_type, run_no)]['train_loss_history'] = []  \n",
    "                results[(attn_type, run_no)]['val_loss_history'] = []  \n",
    "                results[(attn_type, run_no)]['val_time_spent'] = []  \n",
    "\n",
    "                start_time = time.time()\n",
    "\n",
    "                print(image_size,p_size,num_classes,num_channels, d_dim, d_depth, h_heads, lr)\n",
    "                model, results_x = train_model(model_kwargs={\n",
    "                        'image_size': image_size, \n",
    "                        'patch_size': p_size, \n",
    "                        'num_classes':num_classes, \n",
    "                        'channels':num_channels,                \n",
    "                        'dim':d_dim, \n",
    "                        'depth':d_depth, \n",
    "                        'heads':h_heads, \n",
    "                        'mlp_dim':d_dim,\n",
    "                            },\n",
    "                            lr=lr)\n",
    "                print(\"ViT results\", results_x)\n",
    "\n",
    "                results[(attn_type, run_no)]['test_acc'] = results_x['test']\n",
    "\n",
    "\n",
    "\n",
    "                if not os.path.exists(f'./results'):\n",
    "                        os.mkdir(f'./results')\n",
    "\n",
    "\n",
    "                with open(f'./results/{d_dim}_{d_depth}_{h_heads}_{num_epochs}_{lr}_{sequence_length}_{which_db}pkl', 'wb') as f:\n",
    "                        pickle.dump(results, f)\n",
    "        \n"
   ]
  },
  {
   "cell_type": "code",
   "execution_count": 47,
   "metadata": {},
   "outputs": [
    {
     "name": "stderr",
     "output_type": "stream",
     "text": [
      "GPU available: True (cuda), used: True\n",
      "TPU available: False, using: 0 TPU cores\n",
      "IPU available: False, using: 0 IPUs\n",
      "HPU available: False, using: 0 HPUs\n"
     ]
    },
    {
     "name": "stderr",
     "output_type": "stream",
     "text": [
      "LOCAL_RANK: 0 - CUDA_VISIBLE_DEVICES: [0]\n",
      "\n",
      "  | Name               | Type        | Params | In sizes              | Out sizes     \n",
      "--------------------------------------------------------------------------------------------\n",
      "0 | patch_to_embedding | Linear      | 6.4 K  | [200, 16, 49]         | [200, 16, 128]\n",
      "1 | model              | Transformer | 82.9 K | [[200, 17, 128], '?'] | [200, 17, 128]\n",
      "2 | to_cls_token       | Identity    | 0      | [200, 128]            | [200, 128]    \n",
      "3 | mlp_head           | Sequential  | 17.8 K | [200, 128]            | [200, 10]     \n",
      "  | other params       | n/a         | 2.3 K  | n/a                   | n/a           \n",
      "--------------------------------------------------------------------------------------------\n",
      "109 K     Trainable params\n",
      "0         Non-trainable params\n",
      "109 K     Total params\n",
      "0.437     Total estimated model params size (MB)\n"
     ]
    },
    {
     "name": "stdout",
     "output_type": "stream",
     "text": [
      "fashionmnist.---------- norm type: kv, run number: 0 ------------------------------\n",
      "28 7 10 1 128 1 1 0.001\n",
      "Epoch 3: 100%|██████████| 300/300 [00:28<00:00, 10.35it/s, v_num=2]        "
     ]
    },
    {
     "name": "stderr",
     "output_type": "stream",
     "text": [
      "c:\\Users\\hwade\\miniconda3\\envs\\openmmlab\\Lib\\site-packages\\pytorch_lightning\\trainer\\call.py:54: Detected KeyboardInterrupt, attempting graceful shutdown...\n",
      "LOCAL_RANK: 0 - CUDA_VISIBLE_DEVICES: [0]\n"
     ]
    },
    {
     "name": "stdout",
     "output_type": "stream",
     "text": [
      "Testing: |          | 10/? [00:01<00:00,  5.18it/s]"
     ]
    },
    {
     "name": "stderr",
     "output_type": "stream",
     "text": [
      "LOCAL_RANK: 0 - CUDA_VISIBLE_DEVICES: [0]\n"
     ]
    },
    {
     "name": "stdout",
     "output_type": "stream",
     "text": [
      "\n",
      "Testing DataLoader 0: 100%|██████████| 10/10 [00:01<00:00,  6.23it/s]"
     ]
    },
    {
     "name": "stderr",
     "output_type": "stream",
     "text": [
      "GPU available: True (cuda), used: True\n",
      "TPU available: False, using: 0 TPU cores\n",
      "IPU available: False, using: 0 IPUs\n",
      "HPU available: False, using: 0 HPUs\n",
      "LOCAL_RANK: 0 - CUDA_VISIBLE_DEVICES: [0]\n",
      "\n",
      "  | Name               | Type        | Params | In sizes              | Out sizes     \n",
      "--------------------------------------------------------------------------------------------\n",
      "0 | patch_to_embedding | Linear      | 6.4 K  | [200, 16, 49]         | [200, 16, 128]\n",
      "1 | model              | Transformer | 82.9 K | [[200, 17, 128], '?'] | [200, 17, 128]\n",
      "2 | to_cls_token       | Identity    | 0      | [200, 128]            | [200, 128]    \n",
      "3 | mlp_head           | Sequential  | 17.8 K | [200, 128]            | [200, 10]     \n",
      "  | other params       | n/a         | 2.3 K  | n/a                   | n/a           \n",
      "--------------------------------------------------------------------------------------------\n",
      "109 K     Trainable params\n",
      "0         Non-trainable params\n",
      "109 K     Total params\n",
      "0.437     Total estimated model params size (MB)\n"
     ]
    },
    {
     "name": "stdout",
     "output_type": "stream",
     "text": [
      "\n",
      "ViT results {'test': 0.7886999845504761, 'val': 0.7886999845504761}\n",
      "fashionmnist.---------- norm type: kv, run number: 1 ------------------------------\n",
      "28 7 10 1 128 1 1 0.001\n",
      "Epoch 1:  50%|█████     | 150/300 [00:08<00:08, 17.68it/s, v_num=3]        "
     ]
    },
    {
     "name": "stderr",
     "output_type": "stream",
     "text": [
      "LOCAL_RANK: 0 - CUDA_VISIBLE_DEVICES: [0]\n"
     ]
    },
    {
     "name": "stdout",
     "output_type": "stream",
     "text": [
      "Testing: |          | 10/? [00:01<00:00,  5.33it/s]"
     ]
    },
    {
     "name": "stderr",
     "output_type": "stream",
     "text": [
      "LOCAL_RANK: 0 - CUDA_VISIBLE_DEVICES: [0]\n"
     ]
    },
    {
     "name": "stdout",
     "output_type": "stream",
     "text": [
      "\n",
      "Testing DataLoader 0: 100%|██████████| 10/10 [00:01<00:00,  5.43it/s]\n",
      "ViT results {'test': 0.7371999621391296, 'val': 0.7372000217437744}\n"
     ]
    }
   ],
   "source": [
    "run_model()"
   ]
  }
 ],
 "metadata": {
  "kernelspec": {
   "display_name": "openmmlab",
   "language": "python",
   "name": "python3"
  },
  "language_info": {
   "codemirror_mode": {
    "name": "ipython",
    "version": 3
   },
   "file_extension": ".py",
   "mimetype": "text/x-python",
   "name": "python",
   "nbconvert_exporter": "python",
   "pygments_lexer": "ipython3",
   "version": "3.11.8"
  }
 },
 "nbformat": 4,
 "nbformat_minor": 2
}

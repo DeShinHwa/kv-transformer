{
 "cells": [
  {
   "cell_type": "markdown",
   "metadata": {
    "id": "wJpXpmjEYC_T"
   },
   "source": [
    "## Building a GPT\n",
    "\n",
    "Companion notebook to the [Zero To Hero](https://karpathy.ai/zero-to-hero.html) video on GPT."
   ]
  },
  {
   "cell_type": "code",
   "execution_count": 1,
   "metadata": {
    "id": "6K_lXrtl5etW"
   },
   "outputs": [
    {
     "ename": "ModuleNotFoundError",
     "evalue": "No module named 'matplotlib'",
     "output_type": "error",
     "traceback": [
      "\u001b[1;31m---------------------------------------------------------------------------\u001b[0m",
      "\u001b[1;31mModuleNotFoundError\u001b[0m                       Traceback (most recent call last)",
      "Cell \u001b[1;32mIn[1], line 1\u001b[0m\n\u001b[1;32m----> 1\u001b[0m \u001b[38;5;28;01mfrom\u001b[39;00m \u001b[38;5;21;01mmatplotlib\u001b[39;00m \u001b[38;5;28;01mimport\u001b[39;00m pyplot \u001b[38;5;28;01mas\u001b[39;00m plt\n\u001b[0;32m      2\u001b[0m \u001b[38;5;28;01mimport\u001b[39;00m \u001b[38;5;21;01mos\u001b[39;00m\n\u001b[0;32m      3\u001b[0m \u001b[38;5;28;01mimport\u001b[39;00m \u001b[38;5;21;01mos\u001b[39;00m\u001b[38;5;21;01m.\u001b[39;00m\u001b[38;5;21;01mpath\u001b[39;00m\n",
      "\u001b[1;31mModuleNotFoundError\u001b[0m: No module named 'matplotlib'"
     ]
    }
   ],
   "source": [
    "from matplotlib import pyplot as plt\n",
    "import os\n",
    "import os.path\n",
    "import time\n",
    "import pickle\n",
    "\n",
    "import numpy as np\n",
    "import torch"
   ]
  },
  {
   "cell_type": "code",
   "execution_count": 3,
   "metadata": {
    "colab": {
     "base_uri": "https://localhost:8080/"
    },
    "id": "PNXpcqk8hLfC",
    "outputId": "5b9019b5-8c5e-497f-a778-2651ad19e7ad"
   },
   "outputs": [
    {
     "data": {
      "text/plain": [
       "device(type='cpu')"
      ]
     },
     "execution_count": 3,
     "metadata": {},
     "output_type": "execute_result"
    }
   ],
   "source": [
    "device = torch.device('cuda:0' if torch.cuda.is_available() else 'cpu')\n",
    "device"
   ]
  },
  {
   "cell_type": "code",
   "execution_count": 19,
   "metadata": {
    "colab": {
     "base_uri": "https://localhost:8080/"
    },
    "id": "h5hjCcLDr2WC",
    "outputId": "07ad7fe0-d32a-446c-8038-db8e9f5516bd"
   },
   "outputs": [
    {
     "name": "stdout",
     "output_type": "stream",
     "text": [
      "\n",
      "Saved under input.txt\n"
     ]
    }
   ],
   "source": [
    "\n",
    "# We always start with a dataset to train on. Let's download the tiny shakespeare dataset\n",
    "!python -m wget https://raw.githubusercontent.com/karpathy/char-rnn/master/data/tinyshakespeare/input.txt"
   ]
  },
  {
   "cell_type": "code",
   "execution_count": 20,
   "metadata": {
    "id": "O6medjfRsLD9"
   },
   "outputs": [],
   "source": [
    "# read it in to inspect it\n",
    "with open('input.txt', 'r', encoding='utf-8') as f:\n",
    "    text = f.read()"
   ]
  },
  {
   "cell_type": "code",
   "execution_count": 21,
   "metadata": {
    "colab": {
     "base_uri": "https://localhost:8080/"
    },
    "id": "6xWI_VyAsN8F",
    "outputId": "aa3fe394-a0c0-4386-a8f6-799af99ace8a"
   },
   "outputs": [
    {
     "name": "stdout",
     "output_type": "stream",
     "text": [
      "length of dataset in characters:  1115394\n"
     ]
    }
   ],
   "source": [
    "print(\"length of dataset in characters: \", len(text))"
   ]
  },
  {
   "cell_type": "code",
   "execution_count": 23,
   "metadata": {
    "colab": {
     "base_uri": "https://localhost:8080/"
    },
    "id": "2c5V0FvqseE0",
    "outputId": "334e98ec-a689-4293-b508-aa7fa83e1a97"
   },
   "outputs": [
    {
     "name": "stdout",
     "output_type": "stream",
     "text": [
      "First Citizen:\n",
      "Before we proceed any further, hear me speak.\n",
      "\n",
      "All:\n",
      "Speak, speak.\n",
      "\n",
      "First Citizen:\n",
      "You are all resolved rather to die than to famish?\n",
      "\n",
      "All:\n",
      "Resolved. resolved.\n",
      "\n",
      "First Citizen:\n",
      "First, you know Caius Marcius is chief enemy to the people.\n",
      "\n",
      "All:\n",
      "We know't, we know't.\n",
      "\n",
      "First Citizen:\n",
      "Let us kill him, and we'll have corn at our own price.\n",
      "Is't a verdict?\n",
      "\n",
      "All:\n",
      "No more talking on't; let it be done: away, away!\n",
      "\n",
      "Second Citizen:\n",
      "One word, good citizens.\n",
      "\n",
      "First Citizen:\n",
      "We are accounted poor citizens, the patricians good.\n",
      "What authority surfeits on would relieve us: if they\n",
      "would yield us but the superfluity, while it were\n",
      "wholesome, we might guess they relieved us humanely;\n",
      "but they think we are too dear: the leanness that\n",
      "afflicts us, the object of our misery, is as an\n",
      "inventory to particularise their abundance; our\n",
      "sufferance is a gain to them Let us revenge this with\n",
      "our pikes, ere we become rakes: for the gods know I\n",
      "speak this in hunger for bread, not in thirst for revenge.\n",
      "\n",
      "\n"
     ]
    }
   ],
   "source": [
    "\n",
    "# let's look at the first 1000 characters\n",
    "print(text[:1000])"
   ]
  },
  {
   "cell_type": "code",
   "execution_count": 24,
   "metadata": {
    "colab": {
     "base_uri": "https://localhost:8080/"
    },
    "id": "0e-Rbyr8sfM8",
    "outputId": "f5e3fc5d-943f-4930-9114-6442e0d13824"
   },
   "outputs": [
    {
     "name": "stdout",
     "output_type": "stream",
     "text": [
      "\n",
      " !$&',-.3:;?ABCDEFGHIJKLMNOPQRSTUVWXYZabcdefghijklmnopqrstuvwxyz\n",
      "65\n"
     ]
    }
   ],
   "source": [
    "# here are all the unique characters that occur in this text\n",
    "chars = sorted(list(set(text)))\n",
    "vocab_size = len(chars)\n",
    "print(''.join(chars))\n",
    "print(vocab_size)"
   ]
  },
  {
   "cell_type": "code",
   "execution_count": 25,
   "metadata": {
    "colab": {
     "base_uri": "https://localhost:8080/"
    },
    "id": "Yw1LKNCgwjj1",
    "outputId": "1edf15e4-51d1-47a7-d6ff-00abb6a0e5f3"
   },
   "outputs": [
    {
     "name": "stdout",
     "output_type": "stream",
     "text": [
      "[46, 47, 47, 1, 58, 46, 43, 56, 43]\n",
      "hii there\n"
     ]
    }
   ],
   "source": [
    "# create a mapping from characters to integers\n",
    "stoi = { ch:i for i,ch in enumerate(chars) }\n",
    "itos = { i:ch for i,ch in enumerate(chars) }\n",
    "encode = lambda s: [stoi[c] for c in s] # encoder: take a string, output a list of integers\n",
    "decode = lambda l: ''.join([itos[i] for i in l]) # decoder: take a list of integers, output a string\n",
    "\n",
    "print(encode(\"hii there\"))\n",
    "print(decode(encode(\"hii there\")))"
   ]
  },
  {
   "cell_type": "code",
   "execution_count": 26,
   "metadata": {
    "colab": {
     "base_uri": "https://localhost:8080/"
    },
    "id": "YJb0OXPwzvqg",
    "outputId": "ea42e8e2-6d10-4f63-aa65-32bb12a3881f"
   },
   "outputs": [
    {
     "name": "stdout",
     "output_type": "stream",
     "text": [
      "torch.Size([1115394]) torch.int64\n",
      "tensor([18, 47, 56, 57, 58,  1, 15, 47, 58, 47, 64, 43, 52, 10,  0, 14, 43, 44,\n",
      "        53, 56, 43,  1, 61, 43,  1, 54, 56, 53, 41, 43, 43, 42,  1, 39, 52, 63,\n",
      "         1, 44, 59, 56, 58, 46, 43, 56,  6,  1, 46, 43, 39, 56,  1, 51, 43,  1,\n",
      "        57, 54, 43, 39, 49,  8,  0,  0, 13, 50, 50, 10,  0, 31, 54, 43, 39, 49,\n",
      "         6,  1, 57, 54, 43, 39, 49,  8,  0,  0, 18, 47, 56, 57, 58,  1, 15, 47,\n",
      "        58, 47, 64, 43, 52, 10,  0, 37, 53, 59,  1, 39, 56, 43,  1, 39, 50, 50,\n",
      "         1, 56, 43, 57, 53, 50, 60, 43, 42,  1, 56, 39, 58, 46, 43, 56,  1, 58,\n",
      "        53,  1, 42, 47, 43,  1, 58, 46, 39, 52,  1, 58, 53,  1, 44, 39, 51, 47,\n",
      "        57, 46, 12,  0,  0, 13, 50, 50, 10,  0, 30, 43, 57, 53, 50, 60, 43, 42,\n",
      "         8,  1, 56, 43, 57, 53, 50, 60, 43, 42,  8,  0,  0, 18, 47, 56, 57, 58,\n",
      "         1, 15, 47, 58, 47, 64, 43, 52, 10,  0, 18, 47, 56, 57, 58,  6,  1, 63,\n",
      "        53, 59,  1, 49, 52, 53, 61,  1, 15, 39, 47, 59, 57,  1, 25, 39, 56, 41,\n",
      "        47, 59, 57,  1, 47, 57,  1, 41, 46, 47, 43, 44,  1, 43, 52, 43, 51, 63,\n",
      "         1, 58, 53,  1, 58, 46, 43,  1, 54, 43, 53, 54, 50, 43,  8,  0,  0, 13,\n",
      "        50, 50, 10,  0, 35, 43,  1, 49, 52, 53, 61,  5, 58,  6,  1, 61, 43,  1,\n",
      "        49, 52, 53, 61,  5, 58,  8,  0,  0, 18, 47, 56, 57, 58,  1, 15, 47, 58,\n",
      "        47, 64, 43, 52, 10,  0, 24, 43, 58,  1, 59, 57,  1, 49, 47, 50, 50,  1,\n",
      "        46, 47, 51,  6,  1, 39, 52, 42,  1, 61, 43,  5, 50, 50,  1, 46, 39, 60,\n",
      "        43,  1, 41, 53, 56, 52,  1, 39, 58,  1, 53, 59, 56,  1, 53, 61, 52,  1,\n",
      "        54, 56, 47, 41, 43,  8,  0, 21, 57,  5, 58,  1, 39,  1, 60, 43, 56, 42,\n",
      "        47, 41, 58, 12,  0,  0, 13, 50, 50, 10,  0, 26, 53,  1, 51, 53, 56, 43,\n",
      "         1, 58, 39, 50, 49, 47, 52, 45,  1, 53, 52,  5, 58, 11,  1, 50, 43, 58,\n",
      "         1, 47, 58,  1, 40, 43,  1, 42, 53, 52, 43, 10,  1, 39, 61, 39, 63,  6,\n",
      "         1, 39, 61, 39, 63,  2,  0,  0, 31, 43, 41, 53, 52, 42,  1, 15, 47, 58,\n",
      "        47, 64, 43, 52, 10,  0, 27, 52, 43,  1, 61, 53, 56, 42,  6,  1, 45, 53,\n",
      "        53, 42,  1, 41, 47, 58, 47, 64, 43, 52, 57,  8,  0,  0, 18, 47, 56, 57,\n",
      "        58,  1, 15, 47, 58, 47, 64, 43, 52, 10,  0, 35, 43,  1, 39, 56, 43,  1,\n",
      "        39, 41, 41, 53, 59, 52, 58, 43, 42,  1, 54, 53, 53, 56,  1, 41, 47, 58,\n",
      "        47, 64, 43, 52, 57,  6,  1, 58, 46, 43,  1, 54, 39, 58, 56, 47, 41, 47,\n",
      "        39, 52, 57,  1, 45, 53, 53, 42,  8,  0, 35, 46, 39, 58,  1, 39, 59, 58,\n",
      "        46, 53, 56, 47, 58, 63,  1, 57, 59, 56, 44, 43, 47, 58, 57,  1, 53, 52,\n",
      "         1, 61, 53, 59, 50, 42,  1, 56, 43, 50, 47, 43, 60, 43,  1, 59, 57, 10,\n",
      "         1, 47, 44,  1, 58, 46, 43, 63,  0, 61, 53, 59, 50, 42,  1, 63, 47, 43,\n",
      "        50, 42,  1, 59, 57,  1, 40, 59, 58,  1, 58, 46, 43,  1, 57, 59, 54, 43,\n",
      "        56, 44, 50, 59, 47, 58, 63,  6,  1, 61, 46, 47, 50, 43,  1, 47, 58,  1,\n",
      "        61, 43, 56, 43,  0, 61, 46, 53, 50, 43, 57, 53, 51, 43,  6,  1, 61, 43,\n",
      "         1, 51, 47, 45, 46, 58,  1, 45, 59, 43, 57, 57,  1, 58, 46, 43, 63,  1,\n",
      "        56, 43, 50, 47, 43, 60, 43, 42,  1, 59, 57,  1, 46, 59, 51, 39, 52, 43,\n",
      "        50, 63, 11,  0, 40, 59, 58,  1, 58, 46, 43, 63,  1, 58, 46, 47, 52, 49,\n",
      "         1, 61, 43,  1, 39, 56, 43,  1, 58, 53, 53,  1, 42, 43, 39, 56, 10,  1,\n",
      "        58, 46, 43,  1, 50, 43, 39, 52, 52, 43, 57, 57,  1, 58, 46, 39, 58,  0,\n",
      "        39, 44, 44, 50, 47, 41, 58, 57,  1, 59, 57,  6,  1, 58, 46, 43,  1, 53,\n",
      "        40, 48, 43, 41, 58,  1, 53, 44,  1, 53, 59, 56,  1, 51, 47, 57, 43, 56,\n",
      "        63,  6,  1, 47, 57,  1, 39, 57,  1, 39, 52,  0, 47, 52, 60, 43, 52, 58,\n",
      "        53, 56, 63,  1, 58, 53,  1, 54, 39, 56, 58, 47, 41, 59, 50, 39, 56, 47,\n",
      "        57, 43,  1, 58, 46, 43, 47, 56,  1, 39, 40, 59, 52, 42, 39, 52, 41, 43,\n",
      "        11,  1, 53, 59, 56,  0, 57, 59, 44, 44, 43, 56, 39, 52, 41, 43,  1, 47,\n",
      "        57,  1, 39,  1, 45, 39, 47, 52,  1, 58, 53,  1, 58, 46, 43, 51,  1, 24,\n",
      "        43, 58,  1, 59, 57,  1, 56, 43, 60, 43, 52, 45, 43,  1, 58, 46, 47, 57,\n",
      "         1, 61, 47, 58, 46,  0, 53, 59, 56,  1, 54, 47, 49, 43, 57,  6,  1, 43,\n",
      "        56, 43,  1, 61, 43,  1, 40, 43, 41, 53, 51, 43,  1, 56, 39, 49, 43, 57,\n",
      "        10,  1, 44, 53, 56,  1, 58, 46, 43,  1, 45, 53, 42, 57,  1, 49, 52, 53,\n",
      "        61,  1, 21,  0, 57, 54, 43, 39, 49,  1, 58, 46, 47, 57,  1, 47, 52,  1,\n",
      "        46, 59, 52, 45, 43, 56,  1, 44, 53, 56,  1, 40, 56, 43, 39, 42,  6,  1,\n",
      "        52, 53, 58,  1, 47, 52,  1, 58, 46, 47, 56, 57, 58,  1, 44, 53, 56,  1,\n",
      "        56, 43, 60, 43, 52, 45, 43,  8,  0,  0])\n"
     ]
    }
   ],
   "source": [
    "# let's now encode the entire text dataset and store it into a torch.Tensor\n",
    "import torch # we use PyTorch: https://pytorch.org\n",
    "data = torch.tensor(encode(text), dtype=torch.long)\n",
    "print(data.shape, data.dtype)\n",
    "print(data[:1000]) # the 1000 characters we looked at earier will to the GPT look like this"
   ]
  },
  {
   "cell_type": "code",
   "execution_count": 15,
   "metadata": {
    "id": "f_WIXqxz0lU5"
   },
   "outputs": [],
   "source": [
    "\n",
    "\n",
    "# Let's now split up the data into train and validation sets\n",
    "n = int(0.9*len(data)) # first 90% will be train, rest val\n",
    "train_data = data[:n]\n",
    "val_data = data[n:]"
   ]
  },
  {
   "cell_type": "code",
   "execution_count": 16,
   "metadata": {
    "colab": {
     "base_uri": "https://localhost:8080/"
    },
    "id": "TD5Bj8Y6IAD4",
    "outputId": "0f64a792-9729-4678-caa4-880aff214cdf"
   },
   "outputs": [
    {
     "data": {
      "text/plain": [
       "tensor([18, 47, 56, 57, 58,  1, 15, 47, 58])"
      ]
     },
     "execution_count": 16,
     "metadata": {},
     "output_type": "execute_result"
    }
   ],
   "source": [
    "block_size = 8\n",
    "train_data[:block_size+1]"
   ]
  },
  {
   "cell_type": "code",
   "execution_count": 17,
   "metadata": {
    "colab": {
     "base_uri": "https://localhost:8080/"
    },
    "id": "9HXDe8vGJCEn",
    "outputId": "1f0d11b0-66b7-4c2c-bccb-cf68fc418727"
   },
   "outputs": [
    {
     "name": "stdout",
     "output_type": "stream",
     "text": [
      "when input is tensor([18]) the target: 47\n",
      "when input is tensor([18, 47]) the target: 56\n",
      "when input is tensor([18, 47, 56]) the target: 57\n",
      "when input is tensor([18, 47, 56, 57]) the target: 58\n",
      "when input is tensor([18, 47, 56, 57, 58]) the target: 1\n",
      "when input is tensor([18, 47, 56, 57, 58,  1]) the target: 15\n",
      "when input is tensor([18, 47, 56, 57, 58,  1, 15]) the target: 47\n",
      "when input is tensor([18, 47, 56, 57, 58,  1, 15, 47]) the target: 58\n"
     ]
    }
   ],
   "source": [
    "x = train_data[:block_size]\n",
    "y = train_data[1:block_size+1]\n",
    "for t in range(block_size):\n",
    "    context = x[:t+1]\n",
    "    target = y[t]\n",
    "    print(f\"when input is {context} the target: {target}\")"
   ]
  },
  {
   "cell_type": "code",
   "execution_count": 18,
   "metadata": {
    "colab": {
     "base_uri": "https://localhost:8080/"
    },
    "id": "Q3k1Czf7LuA9",
    "outputId": "f162fe55-acdc-4603-cc34-8d2fb221c256"
   },
   "outputs": [
    {
     "name": "stdout",
     "output_type": "stream",
     "text": [
      "inputs:\n",
      "torch.Size([4, 8])\n",
      "tensor([[24, 43, 58,  5, 57,  1, 46, 43],\n",
      "        [44, 53, 56,  1, 58, 46, 39, 58],\n",
      "        [52, 58,  1, 58, 46, 39, 58,  1],\n",
      "        [25, 17, 27, 10,  0, 21,  1, 54]])\n",
      "targets:\n",
      "torch.Size([4, 8])\n",
      "tensor([[43, 58,  5, 57,  1, 46, 43, 39],\n",
      "        [53, 56,  1, 58, 46, 39, 58,  1],\n",
      "        [58,  1, 58, 46, 39, 58,  1, 46],\n",
      "        [17, 27, 10,  0, 21,  1, 54, 39]])\n",
      "----\n",
      "when input is [24] the target: 43\n",
      "when input is [24, 43] the target: 58\n",
      "when input is [24, 43, 58] the target: 5\n",
      "when input is [24, 43, 58, 5] the target: 57\n",
      "when input is [24, 43, 58, 5, 57] the target: 1\n",
      "when input is [24, 43, 58, 5, 57, 1] the target: 46\n",
      "when input is [24, 43, 58, 5, 57, 1, 46] the target: 43\n",
      "when input is [24, 43, 58, 5, 57, 1, 46, 43] the target: 39\n",
      "when input is [44] the target: 53\n",
      "when input is [44, 53] the target: 56\n",
      "when input is [44, 53, 56] the target: 1\n",
      "when input is [44, 53, 56, 1] the target: 58\n",
      "when input is [44, 53, 56, 1, 58] the target: 46\n",
      "when input is [44, 53, 56, 1, 58, 46] the target: 39\n",
      "when input is [44, 53, 56, 1, 58, 46, 39] the target: 58\n",
      "when input is [44, 53, 56, 1, 58, 46, 39, 58] the target: 1\n",
      "when input is [52] the target: 58\n",
      "when input is [52, 58] the target: 1\n",
      "when input is [52, 58, 1] the target: 58\n",
      "when input is [52, 58, 1, 58] the target: 46\n",
      "when input is [52, 58, 1, 58, 46] the target: 39\n",
      "when input is [52, 58, 1, 58, 46, 39] the target: 58\n",
      "when input is [52, 58, 1, 58, 46, 39, 58] the target: 1\n",
      "when input is [52, 58, 1, 58, 46, 39, 58, 1] the target: 46\n",
      "when input is [25] the target: 17\n",
      "when input is [25, 17] the target: 27\n",
      "when input is [25, 17, 27] the target: 10\n",
      "when input is [25, 17, 27, 10] the target: 0\n",
      "when input is [25, 17, 27, 10, 0] the target: 21\n",
      "when input is [25, 17, 27, 10, 0, 21] the target: 1\n",
      "when input is [25, 17, 27, 10, 0, 21, 1] the target: 54\n",
      "when input is [25, 17, 27, 10, 0, 21, 1, 54] the target: 39\n"
     ]
    }
   ],
   "source": [
    "torch.manual_seed(1337)\n",
    "batch_size = 4 # how many independent sequences will we process in parallel?\n",
    "block_size = 8 # what is the maximum context length for predictions?\n",
    "\n",
    "def get_batch(split):\n",
    "    # generate a small batch of data of inputs x and targets y\n",
    "    data = train_data if split == 'train' else val_data\n",
    "    ix = torch.randint(len(data) - block_size, (batch_size,))\n",
    "    x = torch.stack([data[i:i+block_size] for i in ix])\n",
    "    y = torch.stack([data[i+1:i+block_size+1] for i in ix])\n",
    "    return x, y\n",
    "\n",
    "xb, yb = get_batch('train')\n",
    "print('inputs:')\n",
    "print(xb.shape)\n",
    "print(xb)\n",
    "print('targets:')\n",
    "print(yb.shape)\n",
    "print(yb)\n",
    "\n",
    "print('----')\n",
    "\n",
    "for b in range(batch_size): # batch dimension\n",
    "    for t in range(block_size): # time dimension\n",
    "        context = xb[b, :t+1]\n",
    "        target = yb[b,t]\n",
    "        print(f\"when input is {context.tolist()} the target: {target}\")"
   ]
  },
  {
   "cell_type": "code",
   "execution_count": 19,
   "metadata": {
    "colab": {
     "base_uri": "https://localhost:8080/"
    },
    "id": "qpyyAeIzQjlO",
    "outputId": "101ee74a-ef90-4464-d2ba-c9840e79009b"
   },
   "outputs": [
    {
     "name": "stdout",
     "output_type": "stream",
     "text": [
      "tensor([[24, 43, 58,  5, 57,  1, 46, 43],\n",
      "        [44, 53, 56,  1, 58, 46, 39, 58],\n",
      "        [52, 58,  1, 58, 46, 39, 58,  1],\n",
      "        [25, 17, 27, 10,  0, 21,  1, 54]])\n"
     ]
    }
   ],
   "source": [
    "print(xb) # our input to the transformer"
   ]
  },
  {
   "cell_type": "code",
   "execution_count": 29,
   "metadata": {
    "colab": {
     "base_uri": "https://localhost:8080/"
    },
    "id": "nql_1ER53oCf",
    "outputId": "11465e11-8f5e-42ba-eccf-7573c84f3bb6"
   },
   "outputs": [
    {
     "ename": "NameError",
     "evalue": "name 'xb' is not defined",
     "output_type": "error",
     "traceback": [
      "\u001b[1;31m---------------------------------------------------------------------------\u001b[0m",
      "\u001b[1;31mNameError\u001b[0m                                 Traceback (most recent call last)",
      "Cell \u001b[1;32mIn[29], line 44\u001b[0m\n\u001b[0;32m     41\u001b[0m         \u001b[38;5;28;01mreturn\u001b[39;00m idx\n\u001b[0;32m     43\u001b[0m m \u001b[38;5;241m=\u001b[39m BigramLanguageModel(vocab_size)\n\u001b[1;32m---> 44\u001b[0m logits, loss \u001b[38;5;241m=\u001b[39m m(\u001b[43mxb\u001b[49m, yb)\n\u001b[0;32m     45\u001b[0m \u001b[38;5;28mprint\u001b[39m(logits\u001b[38;5;241m.\u001b[39mshape)\n\u001b[0;32m     46\u001b[0m \u001b[38;5;28mprint\u001b[39m(loss)\n",
      "\u001b[1;31mNameError\u001b[0m: name 'xb' is not defined"
     ]
    }
   ],
   "source": [
    "import torch\n",
    "import torch.nn as nn\n",
    "from torch.nn import functional as F\n",
    "torch.manual_seed(1337)\n",
    "\n",
    "class BigramLanguageModel(nn.Module):\n",
    "\n",
    "    def __init__(self, vocab_size):\n",
    "        super().__init__()\n",
    "        # each token directly reads off the logits for the next token from a lookup table\n",
    "        self.token_embedding_table = nn.Embedding(vocab_size, vocab_size)\n",
    "\n",
    "    def forward(self, idx, targets=None):\n",
    "\n",
    "        # idx and targets are both (B,T) tensor of integers\n",
    "        logits = self.token_embedding_table(idx) # (B,T,C)\n",
    "        \n",
    "        if targets is None:\n",
    "            loss = None\n",
    "        else:\n",
    "            B, T, C = logits.shape\n",
    "            logits = logits.view(B*T, C)\n",
    "            targets = targets.view(B*T)\n",
    "            loss = F.cross_entropy(logits, targets)\n",
    "\n",
    "        return logits, loss\n",
    "    \n",
    "    def generate(self, idx, max_new_tokens):\n",
    "        # idx is (B, T) array of indices in the current context\n",
    "        for _ in range(max_new_tokens):\n",
    "            # get the predictions\n",
    "            logits, loss = self(idx)\n",
    "            # focus only on the last time step\n",
    "            logits = logits[:, -1, :] # becomes (B, C)\n",
    "            # apply softmax to get probabilities\n",
    "            probs = F.softmax(logits, dim=-1) # (B, C)\n",
    "            # sample from the distribution\n",
    "            idx_next = torch.multinomial(probs, num_samples=1) # (B, 1)\n",
    "            # append sampled index to the running sequence\n",
    "            idx = torch.cat((idx, idx_next), dim=1) # (B, T+1)\n",
    "        return idx\n",
    "\n",
    "m = BigramLanguageModel(vocab_size)\n",
    "logits, loss = m(xb, yb)\n",
    "print(logits.shape)\n",
    "print(loss)\n",
    "\n",
    "print(decode(m.generate(idx = torch.zeros((1, 1), dtype=torch.long), max_new_tokens=100)[0].tolist()))\n"
   ]
  },
  {
   "cell_type": "code",
   "execution_count": 21,
   "metadata": {
    "id": "eTyJ8qAaDdiF"
   },
   "outputs": [],
   "source": [
    "# create a PyTorch optimizer\n",
    "optimizer = torch.optim.AdamW(m.parameters(), lr=1e-3)"
   ]
  },
  {
   "cell_type": "code",
   "execution_count": 22,
   "metadata": {
    "colab": {
     "base_uri": "https://localhost:8080/"
    },
    "id": "Hs4kI8YdEkQj",
    "outputId": "da49770a-e372-4c8c-8485-88a186c2d7a1"
   },
   "outputs": [
    {
     "name": "stdout",
     "output_type": "stream",
     "text": [
      "4.587916374206543\n"
     ]
    }
   ],
   "source": [
    "batch_size = 32\n",
    "for steps in range(100): # increase number of steps for good results... \n",
    "    \n",
    "    # sample a batch of data\n",
    "    xb, yb = get_batch('train')\n",
    "\n",
    "    # evaluate the loss\n",
    "    logits, loss = m(xb, yb)\n",
    "    optimizer.zero_grad(set_to_none=True)\n",
    "    loss.backward()\n",
    "    optimizer.step()\n",
    "\n",
    "print(loss.item())\n"
   ]
  },
  {
   "cell_type": "code",
   "execution_count": 23,
   "metadata": {
    "colab": {
     "base_uri": "https://localhost:8080/"
    },
    "id": "EcVIDWAZEtjN",
    "outputId": "45a41118-d5a7-4476-e78a-1689cac606b2"
   },
   "outputs": [
    {
     "name": "stdout",
     "output_type": "stream",
     "text": [
      "\n",
      "xiKi-RJ:CgqVuUa!U?qMH.uk!sCuMXvv!CJFfx;LgRyJknOEti.?I&-gPlLyulId?XlaInQ'q,lT$\n",
      "3Q&sGlvHQ?mqSq-eON\n",
      "x?SP fUAfCAuCX:bOlgiRQWN:Mphaw\n",
      "tRLKuYXEaAXxrcq-gCUzeh3w!AcyaylgYWjmJM?Uzw:inaY,:C&OECW:vmGGJAn3onAuMgia!ms$Vb q-gCOcPcUhOnxJGUGSPJWT:.?ujmJFoiNL&A'DxY,prZ?qdT;hoo'dHooXXlxf'WkHK&u3Q?rqUi.kz;?Yx?C&u3Qbfzxlyh'Vl:zyxjKXgC?\n",
      "lv'QKFiBeviNxO'm!Upm$srm&TqViqiBD3HBP!juEOpmZJyF$Fwfy!PlvWPFC\n",
      "&WDdP!Ko,px\n",
      "x\n",
      "tREOE;AJ.BeXkylOVD3KHp$e?nD,.SFbWWI'ubcL!q-tU;aXmJ&uGXHxJXI&Z!gHRpajj;l.\n",
      "pTErIBjx;JKIgoCnLGXrJSP!AU-AcbczR?\n"
     ]
    }
   ],
   "source": [
    "print(decode(m.generate(idx = torch.zeros((1, 1), dtype=torch.long), max_new_tokens=500)[0].tolist()))"
   ]
  },
  {
   "cell_type": "markdown",
   "metadata": {
    "id": "XinV8nmAnmKN"
   },
   "source": [
    "## The mathematical trick in self-attention"
   ]
  },
  {
   "cell_type": "code",
   "execution_count": 5,
   "metadata": {
    "colab": {
     "base_uri": "https://localhost:8080/"
    },
    "id": "tukiH-NbRBhA",
    "outputId": "087efab1-a50a-48d6-f67b-adee9382ac47"
   },
   "outputs": [
    {
     "name": "stdout",
     "output_type": "stream",
     "text": [
      "a=\n",
      "tensor([[1.0000, 0.0000, 0.0000],\n",
      "        [0.5000, 0.5000, 0.0000],\n",
      "        [0.3333, 0.3333, 0.3333]])\n",
      "--\n",
      "b=\n",
      "tensor([[2., 7.],\n",
      "        [6., 4.],\n",
      "        [6., 5.]])\n",
      "--\n",
      "c=\n",
      "tensor([[2.0000, 7.0000],\n",
      "        [4.0000, 5.5000],\n",
      "        [4.6667, 5.3333]])\n"
     ]
    }
   ],
   "source": [
    "# toy example illustrating how matrix multiplication can be used for a \"weighted aggregation\"\n",
    "torch.manual_seed(42)\n",
    "a = torch.tril(torch.ones(3, 3))\n",
    "a = a / torch.sum(a, 1, keepdim=True)\n",
    "b = torch.randint(0,10,(3,2)).float()\n",
    "c = a @ b\n",
    "print('a=')\n",
    "print(a)\n",
    "print('--')\n",
    "print('b=')\n",
    "print(b)\n",
    "print('--')\n",
    "print('c=')\n",
    "print(c)"
   ]
  },
  {
   "cell_type": "code",
   "execution_count": null,
   "metadata": {
    "colab": {
     "base_uri": "https://localhost:8080/"
    },
    "id": "Hs_E24uRE8kr",
    "outputId": "f487ee1f-bf33-410e-fa9d-7da3b150e03f"
   },
   "outputs": [],
   "source": [
    "# consider the following toy example:\n",
    "\n",
    "torch.manual_seed(1337)\n",
    "B,T,C = 4,8,2 # batch, time, channels\n",
    "x = torch.randn(B,T,C)\n",
    "x.shape\n",
    "print(x)"
   ]
  },
  {
   "cell_type": "code",
   "execution_count": 11,
   "metadata": {
    "id": "86NuXX0fn7ps"
   },
   "outputs": [],
   "source": [
    "# We want x[b,t] = mean_{i<=t} x[b,i]\n",
    "xbow = torch.zeros((B,T,C))\n",
    "for b in range(B):\n",
    "    for t in range(T):\n",
    "        xprev = x[b,:t+1] # (t,C)\n",
    "        xbow[b,t] = torch.mean(xprev, 0)\n"
   ]
  },
  {
   "cell_type": "code",
   "execution_count": 12,
   "metadata": {
    "colab": {
     "base_uri": "https://localhost:8080/"
    },
    "id": "yhdOAd6-wXkZ",
    "outputId": "c6bcfa6c-7cc2-4f31-d812-8bf3e1b28fba"
   },
   "outputs": [
    {
     "data": {
      "text/plain": [
       "False"
      ]
     },
     "execution_count": 12,
     "metadata": {},
     "output_type": "execute_result"
    }
   ],
   "source": [
    "# version 2: using matrix multiply for a weighted aggregation\n",
    "wei = torch.tril(torch.ones(T, T))\n",
    "wei = wei / wei.sum(1, keepdim=True)\n",
    "xbow2 = wei @ x # (B, T, T) @ (B, T, C) ----> (B, T, C)\n",
    "torch.allclose(xbow, xbow2)"
   ]
  },
  {
   "cell_type": "code",
   "execution_count": 27,
   "metadata": {
    "colab": {
     "base_uri": "https://localhost:8080/"
    },
    "id": "wOURrfG-ysoL",
    "outputId": "56129191-5d4e-4dcf-8cf8-fcb36562b924"
   },
   "outputs": [
    {
     "ename": "NameError",
     "evalue": "name 'F' is not defined",
     "output_type": "error",
     "traceback": [
      "\u001b[1;31m---------------------------------------------------------------------------\u001b[0m",
      "\u001b[1;31mNameError\u001b[0m                                 Traceback (most recent call last)",
      "Cell \u001b[1;32mIn[27], line 5\u001b[0m\n\u001b[0;32m      3\u001b[0m wei \u001b[38;5;241m=\u001b[39m torch\u001b[38;5;241m.\u001b[39mzeros((T,T))\n\u001b[0;32m      4\u001b[0m wei \u001b[38;5;241m=\u001b[39m wei\u001b[38;5;241m.\u001b[39mmasked_fill(tril \u001b[38;5;241m==\u001b[39m \u001b[38;5;241m0\u001b[39m, \u001b[38;5;28mfloat\u001b[39m(\u001b[38;5;124m'\u001b[39m\u001b[38;5;124m-inf\u001b[39m\u001b[38;5;124m'\u001b[39m))\n\u001b[1;32m----> 5\u001b[0m wei \u001b[38;5;241m=\u001b[39m \u001b[43mF\u001b[49m\u001b[38;5;241m.\u001b[39msoftmax(wei, dim\u001b[38;5;241m=\u001b[39m\u001b[38;5;241m-\u001b[39m\u001b[38;5;241m1\u001b[39m)\n\u001b[0;32m      6\u001b[0m xbow3 \u001b[38;5;241m=\u001b[39m wei \u001b[38;5;241m@\u001b[39m x\n\u001b[0;32m      7\u001b[0m torch\u001b[38;5;241m.\u001b[39mallclose(xbow, xbow3)\n",
      "\u001b[1;31mNameError\u001b[0m: name 'F' is not defined"
     ]
    }
   ],
   "source": [
    "# version 3: use Softmax\n",
    "tril = torch.tril(torch.ones(T, T))\n",
    "wei = torch.zeros((T,T))\n",
    "wei = wei.masked_fill(tril == 0, float('-inf'))\n",
    "wei = F.softmax(wei, dim=-1)\n",
    "xbow3 = wei @ x\n",
    "torch.allclose(xbow, xbow3)\n"
   ]
  },
  {
   "cell_type": "code",
   "execution_count": 29,
   "metadata": {
    "colab": {
     "base_uri": "https://localhost:8080/"
    },
    "id": "EDarxEWIRMKq",
    "outputId": "f9868e4f-6195-458e-b7cf-8ab665ef8104"
   },
   "outputs": [
    {
     "data": {
      "text/plain": [
       "torch.Size([4, 8, 16])"
      ]
     },
     "execution_count": 29,
     "metadata": {},
     "output_type": "execute_result"
    }
   ],
   "source": [
    "# version 4: self-attention!\n",
    "torch.manual_seed(1337)\n",
    "B,T,C = 4,8,32 # batch, time, channels\n",
    "x = torch.randn(B,T,C)\n",
    "\n",
    "# let's see a single Head perform self-attention\n",
    "head_size = 16\n",
    "key = nn.Linear(C, head_size, bias=False)\n",
    "query = nn.Linear(C, head_size, bias=False)\n",
    "value = nn.Linear(C, head_size, bias=False)\n",
    "k = key(x)   # (B, T, 16)\n",
    "q = query(x) # (B, T, 16)\n",
    "wei =  q @ k.transpose(-2, -1) # (B, T, 16) @ (B, 16, T) ---> (B, T, T)\n",
    "\n",
    "tril = torch.tril(torch.ones(T, T))\n",
    "#wei = torch.zeros((T,T))\n",
    "wei = wei.masked_fill(tril == 0, float('-inf'))\n",
    "wei = F.softmax(wei, dim=-1)\n",
    "\n",
    "v = value(x)\n",
    "out = wei @ v\n",
    "#out = wei @ x\n",
    "\n",
    "out.shape"
   ]
  },
  {
   "cell_type": "code",
   "execution_count": 30,
   "metadata": {
    "colab": {
     "base_uri": "https://localhost:8080/"
    },
    "id": "vT1hdtzXCjgL",
    "outputId": "4e780980-3e7a-43ba-fe15-0305e62e5e93"
   },
   "outputs": [
    {
     "data": {
      "text/plain": [
       "tensor([[1.0000, 0.0000, 0.0000, 0.0000, 0.0000, 0.0000, 0.0000, 0.0000],\n",
       "        [0.1574, 0.8426, 0.0000, 0.0000, 0.0000, 0.0000, 0.0000, 0.0000],\n",
       "        [0.2088, 0.1646, 0.6266, 0.0000, 0.0000, 0.0000, 0.0000, 0.0000],\n",
       "        [0.5792, 0.1187, 0.1889, 0.1131, 0.0000, 0.0000, 0.0000, 0.0000],\n",
       "        [0.0294, 0.1052, 0.0469, 0.0276, 0.7909, 0.0000, 0.0000, 0.0000],\n",
       "        [0.0176, 0.2689, 0.0215, 0.0089, 0.6812, 0.0019, 0.0000, 0.0000],\n",
       "        [0.1691, 0.4066, 0.0438, 0.0416, 0.1048, 0.2012, 0.0329, 0.0000],\n",
       "        [0.0210, 0.0843, 0.0555, 0.2297, 0.0573, 0.0709, 0.2423, 0.2391]],\n",
       "       grad_fn=<SelectBackward0>)"
      ]
     },
     "execution_count": 30,
     "metadata": {},
     "output_type": "execute_result"
    }
   ],
   "source": [
    "wei[0]"
   ]
  },
  {
   "cell_type": "markdown",
   "metadata": {
    "id": "M5CvobiQ0pLr"
   },
   "source": [
    "Notes:\n",
    "- Attention is a **communication mechanism**. Can be seen as nodes in a directed graph looking at each other and aggregating information with a weighted sum from all nodes that point to them, with data-dependent weights.\n",
    "- There is no notion of space. Attention simply acts over a set of vectors. This is why we need to positionally encode tokens.\n",
    "- Each example across batch dimension is of course processed completely independently and never \"talk\" to each other\n",
    "- In an \"encoder\" attention block just delete the single line that does masking with `tril`, allowing all tokens to communicate. This block here is called a \"decoder\" attention block because it has triangular masking, and is usually used in autoregressive settings, like language modeling.\n",
    "- \"self-attention\" just means that the keys and values are produced from the same source as queries. In \"cross-attention\", the queries still get produced from x, but the keys and values come from some other, external source (e.g. an encoder module)\n",
    "- \"Scaled\" attention additional divides `wei` by 1/sqrt(head_size). This makes it so when input Q,K are unit variance, wei will be unit variance too and Softmax will stay diffuse and not saturate too much. Illustration below"
   ]
  },
  {
   "cell_type": "code",
   "execution_count": 31,
   "metadata": {
    "id": "4SNbLq5z3oBw"
   },
   "outputs": [],
   "source": [
    "k = torch.randn(B,T,head_size)\n",
    "q = torch.randn(B,T,head_size)\n",
    "wei = q @ k.transpose(-2, -1) * head_size**-0.5"
   ]
  },
  {
   "cell_type": "code",
   "execution_count": 32,
   "metadata": {
    "colab": {
     "base_uri": "https://localhost:8080/"
    },
    "id": "Nl6I9n9IRTSo",
    "outputId": "8a067a70-e32a-4074-81e5-c3be1c30d330"
   },
   "outputs": [
    {
     "data": {
      "text/plain": [
       "tensor(1.0449)"
      ]
     },
     "execution_count": 32,
     "metadata": {},
     "output_type": "execute_result"
    }
   ],
   "source": [
    "k.var()"
   ]
  },
  {
   "cell_type": "code",
   "execution_count": 33,
   "metadata": {
    "colab": {
     "base_uri": "https://localhost:8080/"
    },
    "id": "T1tQx7oeRvtc",
    "outputId": "0a7281f3-f7b3-46f2-9040-63db7fc4bd8d"
   },
   "outputs": [
    {
     "data": {
      "text/plain": [
       "tensor(1.0700)"
      ]
     },
     "execution_count": 33,
     "metadata": {},
     "output_type": "execute_result"
    }
   ],
   "source": [
    "q.var()"
   ]
  },
  {
   "cell_type": "code",
   "execution_count": 34,
   "metadata": {
    "colab": {
     "base_uri": "https://localhost:8080/"
    },
    "id": "MLb_odHU3iKM",
    "outputId": "7e367360-8397-464e-e760-3f3fdd85d931"
   },
   "outputs": [
    {
     "data": {
      "text/plain": [
       "tensor(1.0918)"
      ]
     },
     "execution_count": 34,
     "metadata": {},
     "output_type": "execute_result"
    }
   ],
   "source": [
    "wei.var()"
   ]
  },
  {
   "cell_type": "code",
   "execution_count": 35,
   "metadata": {
    "colab": {
     "base_uri": "https://localhost:8080/"
    },
    "id": "JB82yzt44REI",
    "outputId": "b7aa0e2e-8a7e-435b-cd57-17e671445933"
   },
   "outputs": [
    {
     "data": {
      "text/plain": [
       "tensor([0.1925, 0.1426, 0.2351, 0.1426, 0.2872])"
      ]
     },
     "execution_count": 35,
     "metadata": {},
     "output_type": "execute_result"
    }
   ],
   "source": [
    "torch.softmax(torch.tensor([0.1, -0.2, 0.3, -0.2, 0.5]), dim=-1)"
   ]
  },
  {
   "cell_type": "code",
   "execution_count": 36,
   "metadata": {
    "colab": {
     "base_uri": "https://localhost:8080/"
    },
    "id": "Mpt8569BB9_f",
    "outputId": "481f98b0-817c-4c03-ced9-03d307e7af14"
   },
   "outputs": [
    {
     "data": {
      "text/plain": [
       "tensor([0.0326, 0.0030, 0.1615, 0.0030, 0.8000])"
      ]
     },
     "execution_count": 36,
     "metadata": {},
     "output_type": "execute_result"
    }
   ],
   "source": [
    "torch.softmax(torch.tensor([0.1, -0.2, 0.3, -0.2, 0.5])*8, dim=-1) # gets too peaky, converges to one-hot"
   ]
  },
  {
   "cell_type": "code",
   "execution_count": 37,
   "metadata": {
    "colab": {
     "base_uri": "https://localhost:8080/"
    },
    "id": "2Num7sX9CKOH",
    "outputId": "e3c90d39-b928-4545-e694-b8773014a4b1"
   },
   "outputs": [
    {
     "data": {
      "text/plain": [
       "torch.Size([32, 100])"
      ]
     },
     "execution_count": 37,
     "metadata": {},
     "output_type": "execute_result"
    }
   ],
   "source": [
    "class LayerNorm1d: # (used to be BatchNorm1d)\n",
    "  \n",
    "  def __init__(self, dim, eps=1e-5, momentum=0.1):\n",
    "    self.eps = eps\n",
    "    self.gamma = torch.ones(dim)\n",
    "    self.beta = torch.zeros(dim)\n",
    "  \n",
    "  def __call__(self, x):\n",
    "    # calculate the forward pass\n",
    "    xmean = x.mean(1, keepdim=True) # batch mean\n",
    "    xvar = x.var(1, keepdim=True) # batch variance\n",
    "    xhat = (x - xmean) / torch.sqrt(xvar + self.eps) # normalize to unit variance\n",
    "    self.out = self.gamma * xhat + self.beta\n",
    "    return self.out\n",
    "  \n",
    "  def parameters(self):\n",
    "    return [self.gamma, self.beta]\n",
    "\n",
    "torch.manual_seed(1337)\n",
    "module = LayerNorm1d(100)\n",
    "x = torch.randn(32, 100) # batch size 32 of 100-dimensional vectors\n",
    "x = module(x)\n",
    "x.shape"
   ]
  },
  {
   "cell_type": "code",
   "execution_count": 38,
   "metadata": {
    "colab": {
     "base_uri": "https://localhost:8080/"
    },
    "id": "633T2cmnW1uk",
    "outputId": "0485317c-7393-48bf-c853-70170a0defd7"
   },
   "outputs": [
    {
     "data": {
      "text/plain": [
       "(tensor(0.1469), tensor(0.8803))"
      ]
     },
     "execution_count": 38,
     "metadata": {},
     "output_type": "execute_result"
    }
   ],
   "source": [
    "x[:,0].mean(), x[:,0].std() # mean,std of one feature across all batch inputs"
   ]
  },
  {
   "cell_type": "code",
   "execution_count": 39,
   "metadata": {
    "colab": {
     "base_uri": "https://localhost:8080/"
    },
    "id": "LN9cK9BoXCYb",
    "outputId": "0f83bb3c-9acc-441c-c8e9-12d66106705a"
   },
   "outputs": [
    {
     "data": {
      "text/plain": [
       "(tensor(-3.5763e-09), tensor(1.0000))"
      ]
     },
     "execution_count": 39,
     "metadata": {},
     "output_type": "execute_result"
    }
   ],
   "source": [
    "x[0,:].mean(), x[0,:].std() # mean,std of a single input from the batch, of its features"
   ]
  },
  {
   "cell_type": "code",
   "execution_count": 40,
   "metadata": {
    "colab": {
     "base_uri": "https://localhost:8080/"
    },
    "id": "8iUvYEdWNdFh",
    "outputId": "bb586a46-ef4d-43c8-fd72-e145abcd27dd"
   },
   "outputs": [
    {
     "data": {
      "text/plain": [
       "torch.Size([10, 32, 100])"
      ]
     },
     "execution_count": 40,
     "metadata": {},
     "output_type": "execute_result"
    }
   ],
   "source": [
    "x = torch.randn(10, 32, 100) \n",
    "x = module(x)\n",
    "x.shape"
   ]
  },
  {
   "cell_type": "code",
   "execution_count": 41,
   "metadata": {
    "colab": {
     "base_uri": "https://localhost:8080/"
    },
    "id": "i6j21NqeNkCV",
    "outputId": "60ffeb62-3f82-4d69-adcf-5eaab51e146c"
   },
   "outputs": [
    {
     "data": {
      "text/plain": [
       "(tensor(-0.0748), tensor(0.8456))"
      ]
     },
     "execution_count": 41,
     "metadata": {},
     "output_type": "execute_result"
    }
   ],
   "source": [
    "x[0,4,:].mean(), x[0,4,:].std()"
   ]
  },
  {
   "cell_type": "code",
   "execution_count": 42,
   "metadata": {
    "id": "dRJH6wM_XFfU"
   },
   "outputs": [],
   "source": [
    "# French to English translation example:\n",
    "\n",
    "# <--------- ENCODE ------------------><--------------- DECODE ----------------->\n",
    "# les réseaux de neurones sont géniaux! <START> neural networks are awesome!<END>\n",
    "\n"
   ]
  },
  {
   "cell_type": "markdown",
   "metadata": {
    "id": "ZcvKeBXoZFOY"
   },
   "source": [
    "### Full finished code, for reference\n",
    "\n",
    "You may want to refer directly to the git repo instead though."
   ]
  },
  {
   "cell_type": "code",
   "execution_count": 43,
   "metadata": {
    "colab": {
     "base_uri": "https://localhost:8080/"
    },
    "id": "xwks13WiIL82",
    "outputId": "985d114b-d3fa-4eae-fd0a-2f64b7f02921"
   },
   "outputs": [
    {
     "name": "stdout",
     "output_type": "stream",
     "text": [
      "\u001b[33mWARNING: Ignoring invalid distribution -orch (/home/ali/miniconda3/envs/py39/lib/python3.9/site-packages)\u001b[0m\u001b[33m\n",
      "\u001b[0m\u001b[33mWARNING: Ignoring invalid distribution -orch (/home/ali/miniconda3/envs/py39/lib/python3.9/site-packages)\u001b[0m\u001b[33m\n",
      "\u001b[0mRequirement already satisfied: einops in /home/ali/miniconda3/envs/py39/lib/python3.9/site-packages (0.6.1)\n",
      "\u001b[33mWARNING: Ignoring invalid distribution -orch (/home/ali/miniconda3/envs/py39/lib/python3.9/site-packages)\u001b[0m\u001b[33m\n",
      "\u001b[0m\u001b[33mWARNING: Ignoring invalid distribution -orch (/home/ali/miniconda3/envs/py39/lib/python3.9/site-packages)\u001b[0m\u001b[33m\n",
      "\u001b[0m\u001b[33mWARNING: Ignoring invalid distribution -orch (/home/ali/miniconda3/envs/py39/lib/python3.9/site-packages)\u001b[0m\u001b[33m\n",
      "\u001b[0m\u001b[33mWARNING: Ignoring invalid distribution -orch (/home/ali/miniconda3/envs/py39/lib/python3.9/site-packages)\u001b[0m\u001b[33m\n",
      "\u001b[0m"
     ]
    }
   ],
   "source": [
    "!pip install einops\n",
    "from einops import rearrange\n"
   ]
  },
  {
   "cell_type": "code",
   "execution_count": 44,
   "metadata": {
    "id": "hoelkOrFY8bN"
   },
   "outputs": [],
   "source": [
    "import torch\n",
    "import torch.nn as nn\n",
    "from torch.nn import functional as F\n",
    "\n",
    "\n",
    "torch.manual_seed(1337)\n",
    "\n",
    "# wget https://raw.githubusercontent.com/karpathy/char-rnn/master/data/tinyshakespeare/input.txt\n",
    "with open('input.txt', 'r', encoding='utf-8') as f:\n",
    "    text = f.read()\n",
    "\n",
    "# here are all the unique characters that occur in this text\n",
    "chars = sorted(list(set(text)))\n",
    "vocab_size = len(chars)\n",
    "# create a mapping from characters to integers\n",
    "stoi = { ch:i for i,ch in enumerate(chars) }\n",
    "itos = { i:ch for i,ch in enumerate(chars) }\n",
    "encode = lambda s: [stoi[c] for c in s] # encoder: take a string, output a list of integers\n",
    "decode = lambda l: ''.join([itos[i] for i in l]) # decoder: take a list of integers, output a string\n",
    "\n",
    "# Train and test splits\n",
    "data = torch.tensor(encode(text), dtype=torch.long)\n",
    "n = int(0.9*len(data)) # first 90% will be train, rest val\n",
    "train_data = data[:n]\n",
    "val_data = data[n:]\n",
    "\n",
    "# data loading\n",
    "def get_batch(split):\n",
    "    # generate a small batch of data of inputs x and targets y\n",
    "    data = train_data if split == 'train' else val_data\n",
    "    ix = torch.randint(len(data) - block_size, (batch_size,))\n",
    "    x = torch.stack([data[i:i+block_size] for i in ix])\n",
    "    y = torch.stack([data[i+1:i+block_size+1] for i in ix])\n",
    "    x, y = x.to(device), y.to(device)\n",
    "    return x, y\n",
    "\n",
    "@torch.no_grad()\n",
    "def estimate_loss():\n",
    "    out = {}\n",
    "    model.eval()\n",
    "    for split in ['train', 'val']:\n",
    "        losses = torch.zeros(eval_iters)\n",
    "        for k in range(eval_iters):\n",
    "            X, Y = get_batch(split)\n",
    "            logits, loss = model(X, Y)\n",
    "            losses[k] = loss.item()\n",
    "        out[split] = losses.mean()\n",
    "    model.train()\n",
    "    return out\n"
   ]
  },
  {
   "cell_type": "code",
   "execution_count": 45,
   "metadata": {
    "id": "qTjfItGtmeiJ"
   },
   "outputs": [],
   "source": [
    "class Head(nn.Module):\n",
    "    \"\"\" one head of self-attention \"\"\"\n",
    "\n",
    "    def __init__(self, head_size, attn_type=None):              \n",
    "        super().__init__()\n",
    "        \n",
    "        self.key = nn.Linear(n_embd, head_size, bias=False)\n",
    "        if attn_type == 'qkv':\n",
    "            self.query = nn.Linear(n_embd, head_size, bias=False)\n",
    "        else:\n",
    "            self.map_pos = nn.Linear(pos_dim, 1, bias=True)  \n",
    "\n",
    "        self.value = nn.Linear(n_embd, head_size, bias=False)\n",
    "        self.register_buffer('tril', torch.tril(torch.ones(block_size, block_size)))\n",
    "\n",
    "        self.dropout = nn.Dropout(dropout)\n",
    "\n",
    "        self.attn_type = attn_type\n",
    "\n",
    "\n",
    "    def forward(self, x):\n",
    "\n",
    "        # print(x.shape)\n",
    "        B,T,C = x.shape\n",
    "        \n",
    "        k = self.key(x) # (B,T,C)\n",
    "        \n",
    "          # compute attention scores (\"affinities\")\n",
    "        if attn_type == 'qkv':            \n",
    "            q = self.query(x) # (B,T,C)\n",
    "            wei = q @ k.transpose(-2,-1)/(C**.5) # (B, T, C) @ (B, C, T) -> (B, T, T\n",
    "        elif attn_type == 'kv':\n",
    "            # import pdb; pdb.set_trace()\n",
    "            wei = k @ k.transpose(-2,-1)/(C**.5) # (B, T, C) @ (B, C, T) -> (B, T, T\n",
    "            pos = pos_embeddings[:,:T,:T,:] # 1, m, m, ? \n",
    "            wei = wei.unsqueeze(-1) + pos\n",
    "            wei = self.map_pos(wei).squeeze(-1)            \n",
    "        else:# attn_type == 'kv-nopos':\n",
    "            # import pdb; pdb.set_trace()\n",
    "            wei = k @ k.transpose(-2,-1)/(C**.5) # (B, T, C) @ (B, C, T) -> (B, T, T\n",
    "        \n",
    "        \n",
    "        wei = wei.masked_fill(self.tril[:T, :T] == 0, float('-inf')) # (B, T, T)        \n",
    "        wei = F.softmax(wei, dim=-1) # (B, T, T)\n",
    "\n",
    "        \n",
    "        wei = self.dropout(wei)\n",
    "        # perform the weighted aggregation of the values\n",
    "        v = self.value(x) # (B,T,C)\n",
    "        out = wei @ v # (B, T, T) @ (B, T, C) -> (B, T, C)\n",
    "\n",
    "        return out"
   ]
  },
  {
   "cell_type": "code",
   "execution_count": 46,
   "metadata": {
    "id": "9gutXeDVmmo1"
   },
   "outputs": [],
   "source": [
    "class MultiHeadAttention(nn.Module):\n",
    "    \"\"\" multiple heads of self-attention in parallel \"\"\"\n",
    "\n",
    "    def __init__(self, num_heads, head_size, attn_type=None):\n",
    "        super().__init__()\n",
    "\n",
    "        self.heads = nn.ModuleList([Head(head_size, attn_type=attn_type) for _ in range(num_heads)])\n",
    "          \n",
    "        self.proj = nn.Linear(n_embd, n_embd)\n",
    "        self.dropout = nn.Dropout(dropout)\n",
    "\n",
    "    def forward(self, x):\n",
    "        out = torch.cat([h(x) for h in self.heads], dim=-1)\n",
    "        out = self.dropout(self.proj(out))\n",
    "        return out\n",
    "\n",
    "class FeedFoward(nn.Module):\n",
    "    \"\"\" a simple linear layer followed by a non-linearity \"\"\"\n",
    "\n",
    "    def __init__(self, n_embd):\n",
    "        super().__init__()\n",
    "        self.net = nn.Sequential(\n",
    "            nn.Linear(n_embd, 4 * n_embd),\n",
    "            nn.ReLU(),\n",
    "            nn.Linear(4 * n_embd, n_embd),\n",
    "            nn.Dropout(dropout),\n",
    "        )\n",
    "\n",
    "    def forward(self, x):\n",
    "        return self.net(x)\n",
    "\n",
    "\n",
    "\n",
    "class Block(nn.Module):\n",
    "    \"\"\" Transformer block: communication followed by computation \"\"\"\n",
    "\n",
    "    def __init__(self, n_embd, n_head, attn_type=None):\n",
    "        # n_embd: embedding dimension, n_head: the number of heads we'd like\n",
    "        super().__init__()\n",
    "        head_size = n_embd // n_head\n",
    "        self.sa = MultiHeadAttention(n_head, head_size, attn_type=attn_type)\n",
    "        self.ffwd = FeedFoward(n_embd)\n",
    "        self.ln1 = nn.LayerNorm(n_embd)\n",
    "        self.ln2 = nn.LayerNorm(n_embd)\n",
    "\n",
    "    def forward(self, x):\n",
    "        x = x + self.sa(self.ln1(x))\n",
    "        x = x + self.ffwd(self.ln2(x))\n",
    "        return x\n",
    "\n",
    "\n",
    "\n",
    "# super simple bigram model\n",
    "class BigramLanguageModel(nn.Module):\n",
    "\n",
    "    def __init__(self):\n",
    "        super().__init__()\n",
    "        # each token directly reads off the logits for the next token from a lookup table\n",
    "        self.token_embedding_table = nn.Embedding(vocab_size, n_embd)\n",
    "        \n",
    "        self.position_embedding_table = nn.Embedding(block_size, n_embd)\n",
    "        \n",
    "        self.blocks = nn.Sequential(*[Block(n_embd, n_head=n_head, attn_type=attn_type) for _ in range(n_layer)])\n",
    "        self.ln_f = nn.LayerNorm(n_embd) # final layer norm\n",
    "        self.lm_head = nn.Linear(n_embd, vocab_size)\n",
    "\n",
    "\n",
    "\n",
    "\n",
    "    def forward(self, idx, targets=None):\n",
    "        B, T = idx.shape\n",
    "\n",
    "        # idx and targets are both (B,T) tensor of integers\n",
    "        tok_emb = self.token_embedding_table(idx) # (B,T,C)\n",
    "\n",
    "        pos_emb = self.position_embedding_table(torch.arange(T, device=device)) # (T,C)\n",
    "        x = tok_emb + pos_emb # (B,T,C)\n",
    "\n",
    "        x = self.blocks(x) # (B,T,C)\n",
    "        x = self.ln_f(x) # (B,T,C)\n",
    "        \n",
    "        logits = self.lm_head(x) # (B,T,vocab_size)\n",
    "\n",
    "        if targets is None:\n",
    "            loss = None\n",
    "        else:\n",
    "            B, T, C = logits.shape\n",
    "            logits = logits.view(B*T, C)\n",
    "            targets = targets.view(B*T)\n",
    "            loss = F.cross_entropy(logits, targets)\n",
    "\n",
    "        return logits, loss\n",
    "\n",
    "    def generate(self, idx, max_new_tokens):\n",
    "        # idx is (B, T) array of indices in the current context\n",
    "        for _ in range(max_new_tokens):\n",
    "            # crop idx to the last block_size tokens\n",
    "            idx_cond = idx[:, -block_size:]\n",
    "            # get the predictions\n",
    "            logits, loss = self(idx_cond)\n",
    "            # focus only on the last time step\n",
    "            logits = logits[:, -1, :] # becomes (B, C)\n",
    "            # apply softmax to get probabilities\n",
    "            probs = F.softmax(logits, dim=-1) # (B, C)\n",
    "            # sample from the distribution\n",
    "            idx_next = torch.multinomial(probs, num_samples=1) # (B, 1)\n",
    "            # append sampled index to the running sequence\n",
    "            idx = torch.cat((idx, idx_next), dim=1) # (B, T+1)\n",
    "        return idx\n"
   ]
  },
  {
   "cell_type": "code",
   "execution_count": 47,
   "metadata": {},
   "outputs": [],
   "source": [
    "from positional_encodings.torch_encodings import PositionalEncoding2D"
   ]
  },
  {
   "cell_type": "code",
   "execution_count": 51,
   "metadata": {},
   "outputs": [],
   "source": [
    "pos_dim = 20\n",
    "\n",
    "p_enc_2d = PositionalEncoding2D(pos_dim)\n",
    "pos_embeddings = {}\n",
    "# for i in range(1,200):\n",
    "#     for j in range(2,100):    \n",
    "z = torch.zeros(1,200,200,pos_dim)\n",
    "# pos_embeddings[(i,j)] = p_enc_2d(z[:,:i,:j,:].to(DEVICE))\n",
    "pos_embeddings = p_enc_2d(z.to(device))"
   ]
  },
  {
   "cell_type": "code",
   "execution_count": 52,
   "metadata": {
    "colab": {
     "base_uri": "https://localhost:8080/",
     "height": 450
    },
    "id": "B7YXmj_hNGHX",
    "outputId": "489890da-6054-4df6-efe6-b86865e3d011"
   },
   "outputs": [
    {
     "name": "stdout",
     "output_type": "stream",
     "text": [
      "---------- attn type: kv\n",
      "step 0: train loss 4.4298, val loss 4.4286\n",
      "step 200: train loss 2.2831, val loss 2.3060\n",
      "step 400: train loss 2.0238, val loss 2.0757\n",
      "step 600: train loss 1.8573, val loss 1.9619\n",
      "step 800: train loss 1.7543, val loss 1.8879\n",
      "step 1000: train loss 1.6778, val loss 1.8319\n",
      "step 1200: train loss 1.6310, val loss 1.7899\n",
      "step 1400: train loss 1.5940, val loss 1.7565\n",
      "step 1600: train loss 1.5630, val loss 1.7348\n",
      "step 1800: train loss 1.5321, val loss 1.7098\n",
      "step 2000: train loss 1.5145, val loss 1.6975\n",
      "step 2200: train loss 1.4949, val loss 1.6871\n",
      "step 2400: train loss 1.4756, val loss 1.6624\n",
      "step 2600: train loss 1.4626, val loss 1.6519\n",
      "step 2800: train loss 1.4516, val loss 1.6487\n",
      "step 3000: train loss 1.4323, val loss 1.6337\n",
      "step 3200: train loss 1.4213, val loss 1.6219\n",
      "step 3400: train loss 1.4135, val loss 1.6201\n",
      "step 3600: train loss 1.4059, val loss 1.6074\n",
      "step 3800: train loss 1.3953, val loss 1.5990\n",
      "step 4000: train loss 1.3874, val loss 1.5958\n",
      "step 4200: train loss 1.3848, val loss 1.5877\n",
      "step 4400: train loss 1.3683, val loss 1.5821\n",
      "step 4600: train loss 1.3703, val loss 1.5785\n",
      "step 4800: train loss 1.3609, val loss 1.5753\n",
      "step 5000: train loss 1.3586, val loss 1.5757\n",
      "step 5200: train loss 1.3425, val loss 1.5773\n",
      "step 5400: train loss 1.3445, val loss 1.5725\n",
      "step 5600: train loss 1.3389, val loss 1.5732\n",
      "step 5800: train loss 1.3348, val loss 1.5642\n",
      "step 6000: train loss 1.3333, val loss 1.5545\n",
      "step 6200: train loss 1.3284, val loss 1.5548\n",
      "step 6400: train loss 1.3177, val loss 1.5490\n",
      "step 6600: train loss 1.3184, val loss 1.5453\n",
      "step 6800: train loss 1.3191, val loss 1.5466\n",
      "step 7000: train loss 1.3122, val loss 1.5402\n",
      "step 7200: train loss 1.3040, val loss 1.5399\n",
      "step 7400: train loss 1.3050, val loss 1.5424\n",
      "step 7600: train loss 1.3033, val loss 1.5407\n",
      "step 7800: train loss 1.2980, val loss 1.5293\n",
      "step 8000: train loss 1.2945, val loss 1.5393\n",
      "step 8200: train loss 1.2923, val loss 1.5343\n",
      "step 8400: train loss 1.2887, val loss 1.5346\n",
      "step 8600: train loss 1.2829, val loss 1.5329\n",
      "step 8800: train loss 1.2855, val loss 1.5322\n",
      "step 9000: train loss 1.2818, val loss 1.5368\n",
      "step 9200: train loss 1.2805, val loss 1.5312\n",
      "step 9400: train loss 1.2796, val loss 1.5318\n",
      "step 9600: train loss 1.2730, val loss 1.5285\n",
      "step 9800: train loss 1.2710, val loss 1.5282\n",
      "step 9999: train loss 1.2705, val loss 1.5187\n",
      "Execution time: 1276.11 seconds\n",
      "step 0: train loss 4.3343, val loss 4.3336\n",
      "step 200: train loss 2.2562, val loss 2.2739\n",
      "step 400: train loss 1.9903, val loss 2.0506\n",
      "step 600: train loss 1.8386, val loss 1.9459\n",
      "step 800: train loss 1.7431, val loss 1.8826\n",
      "step 1000: train loss 1.6727, val loss 1.8299\n",
      "step 1200: train loss 1.6280, val loss 1.7907\n",
      "step 1400: train loss 1.5880, val loss 1.7571\n",
      "step 1600: train loss 1.5663, val loss 1.7544\n",
      "step 1800: train loss 1.5383, val loss 1.7168\n",
      "step 2000: train loss 1.5137, val loss 1.7080\n",
      "step 2200: train loss 1.4904, val loss 1.6864\n",
      "step 2400: train loss 1.4772, val loss 1.6645\n",
      "step 2600: train loss 1.4611, val loss 1.6625\n",
      "step 2800: train loss 1.4475, val loss 1.6443\n",
      "step 3000: train loss 1.4396, val loss 1.6490\n",
      "step 3200: train loss 1.4183, val loss 1.6262\n",
      "step 3400: train loss 1.4190, val loss 1.6254\n",
      "step 3600: train loss 1.4059, val loss 1.6125\n",
      "step 3800: train loss 1.3910, val loss 1.6029\n",
      "step 4000: train loss 1.3895, val loss 1.6035\n",
      "step 4200: train loss 1.3806, val loss 1.5961\n",
      "step 4400: train loss 1.3736, val loss 1.5899\n",
      "step 4600: train loss 1.3690, val loss 1.5795\n",
      "step 4800: train loss 1.3646, val loss 1.5776\n",
      "step 5000: train loss 1.3581, val loss 1.5742\n",
      "step 5200: train loss 1.3550, val loss 1.5720\n",
      "step 5400: train loss 1.3488, val loss 1.5749\n",
      "step 5600: train loss 1.3396, val loss 1.5646\n",
      "step 5800: train loss 1.3357, val loss 1.5571\n",
      "step 6000: train loss 1.3305, val loss 1.5553\n",
      "step 6200: train loss 1.3254, val loss 1.5576\n",
      "step 6400: train loss 1.3252, val loss 1.5544\n",
      "step 6600: train loss 1.3198, val loss 1.5480\n",
      "step 6800: train loss 1.3170, val loss 1.5498\n",
      "step 7000: train loss 1.3100, val loss 1.5407\n",
      "step 7200: train loss 1.3070, val loss 1.5489\n",
      "step 7400: train loss 1.3057, val loss 1.5356\n",
      "step 7600: train loss 1.3047, val loss 1.5427\n",
      "step 7800: train loss 1.2947, val loss 1.5421\n",
      "step 8000: train loss 1.2961, val loss 1.5498\n",
      "step 8200: train loss 1.2920, val loss 1.5340\n",
      "step 8400: train loss 1.2903, val loss 1.5431\n",
      "step 8600: train loss 1.2913, val loss 1.5251\n",
      "step 8800: train loss 1.2847, val loss 1.5301\n",
      "step 9000: train loss 1.2833, val loss 1.5321\n",
      "step 9200: train loss 1.2769, val loss 1.5291\n",
      "step 9400: train loss 1.2712, val loss 1.5251\n",
      "step 9600: train loss 1.2717, val loss 1.5326\n",
      "step 9800: train loss 1.2701, val loss 1.5310\n",
      "step 9999: train loss 1.2688, val loss 1.5235\n",
      "Execution time: 1270.00 seconds\n",
      "---------- attn type: qkv\n",
      "step 0: train loss 4.3697, val loss 4.3627\n",
      "step 200: train loss 2.2495, val loss 2.2666\n",
      "step 400: train loss 2.0015, val loss 2.0592\n",
      "step 600: train loss 1.8300, val loss 1.9416\n",
      "step 800: train loss 1.7257, val loss 1.8699\n",
      "step 1000: train loss 1.6557, val loss 1.8104\n",
      "step 1200: train loss 1.6040, val loss 1.7729\n",
      "step 1400: train loss 1.5662, val loss 1.7435\n",
      "step 1600: train loss 1.5402, val loss 1.7279\n",
      "step 1800: train loss 1.5083, val loss 1.7081\n",
      "step 2000: train loss 1.4895, val loss 1.6769\n",
      "step 2200: train loss 1.4643, val loss 1.6579\n",
      "step 2400: train loss 1.4477, val loss 1.6472\n",
      "step 2600: train loss 1.4342, val loss 1.6339\n",
      "step 2800: train loss 1.4242, val loss 1.6134\n",
      "step 3000: train loss 1.4143, val loss 1.6147\n",
      "step 3200: train loss 1.3986, val loss 1.6062\n",
      "step 3400: train loss 1.3925, val loss 1.5952\n",
      "step 3600: train loss 1.3830, val loss 1.5871\n",
      "step 3800: train loss 1.3746, val loss 1.5856\n",
      "step 4000: train loss 1.3668, val loss 1.5795\n",
      "step 4200: train loss 1.3623, val loss 1.5709\n",
      "step 4400: train loss 1.3487, val loss 1.5618\n",
      "step 4600: train loss 1.3487, val loss 1.5646\n",
      "step 4800: train loss 1.3456, val loss 1.5590\n",
      "step 5000: train loss 1.3368, val loss 1.5558\n",
      "step 5200: train loss 1.3267, val loss 1.5495\n",
      "step 5400: train loss 1.3248, val loss 1.5485\n",
      "step 5600: train loss 1.3234, val loss 1.5466\n",
      "step 5800: train loss 1.3205, val loss 1.5499\n",
      "step 6000: train loss 1.3131, val loss 1.5458\n",
      "step 6200: train loss 1.3070, val loss 1.5302\n",
      "step 6400: train loss 1.3026, val loss 1.5415\n",
      "step 6600: train loss 1.2979, val loss 1.5374\n",
      "step 6800: train loss 1.2957, val loss 1.5300\n",
      "step 7000: train loss 1.2941, val loss 1.5283\n",
      "step 7200: train loss 1.2870, val loss 1.5224\n",
      "step 7400: train loss 1.2854, val loss 1.5345\n",
      "step 7600: train loss 1.2856, val loss 1.5275\n",
      "step 7800: train loss 1.2837, val loss 1.5400\n",
      "step 8000: train loss 1.2745, val loss 1.5272\n",
      "step 8200: train loss 1.2745, val loss 1.5253\n",
      "step 8400: train loss 1.2684, val loss 1.5312\n",
      "step 8600: train loss 1.2697, val loss 1.5172\n",
      "step 8800: train loss 1.2655, val loss 1.5136\n",
      "step 9000: train loss 1.2659, val loss 1.5188\n",
      "step 9200: train loss 1.2610, val loss 1.5220\n",
      "step 9400: train loss 1.2566, val loss 1.5245\n",
      "step 9600: train loss 1.2548, val loss 1.5122\n",
      "step 9800: train loss 1.2521, val loss 1.5227\n",
      "step 9999: train loss 1.2494, val loss 1.5235\n",
      "Execution time: 880.18 seconds\n",
      "step 0: train loss 4.3901, val loss 4.3892\n",
      "step 200: train loss 2.2680, val loss 2.2887\n",
      "step 400: train loss 1.9755, val loss 2.0418\n",
      "step 600: train loss 1.8167, val loss 1.9345\n",
      "step 800: train loss 1.7186, val loss 1.8581\n",
      "step 1000: train loss 1.6492, val loss 1.7979\n",
      "step 1200: train loss 1.6032, val loss 1.7597\n",
      "step 1400: train loss 1.5659, val loss 1.7316\n",
      "step 1600: train loss 1.5295, val loss 1.7021\n",
      "step 1800: train loss 1.5055, val loss 1.6838\n",
      "step 2000: train loss 1.4814, val loss 1.6651\n",
      "step 2200: train loss 1.4662, val loss 1.6530\n",
      "step 2400: train loss 1.4505, val loss 1.6388\n",
      "step 2600: train loss 1.4393, val loss 1.6327\n",
      "step 2800: train loss 1.4231, val loss 1.6096\n",
      "step 3000: train loss 1.4114, val loss 1.6085\n",
      "step 3200: train loss 1.4001, val loss 1.5930\n",
      "step 3400: train loss 1.3887, val loss 1.5960\n",
      "step 3600: train loss 1.3853, val loss 1.5870\n",
      "step 3800: train loss 1.3734, val loss 1.5690\n",
      "step 4000: train loss 1.3655, val loss 1.5695\n",
      "step 4200: train loss 1.3596, val loss 1.5641\n",
      "step 4400: train loss 1.3524, val loss 1.5636\n",
      "step 4600: train loss 1.3518, val loss 1.5607\n",
      "step 4800: train loss 1.3422, val loss 1.5566\n",
      "step 5000: train loss 1.3351, val loss 1.5532\n",
      "step 5200: train loss 1.3330, val loss 1.5469\n",
      "step 5400: train loss 1.3275, val loss 1.5511\n",
      "step 5600: train loss 1.3179, val loss 1.5500\n",
      "step 5800: train loss 1.3185, val loss 1.5477\n",
      "step 6000: train loss 1.3071, val loss 1.5390\n",
      "step 6200: train loss 1.3057, val loss 1.5288\n",
      "step 6400: train loss 1.3076, val loss 1.5288\n",
      "step 6600: train loss 1.3049, val loss 1.5326\n",
      "step 6800: train loss 1.2961, val loss 1.5340\n",
      "step 7000: train loss 1.2895, val loss 1.5307\n",
      "step 7200: train loss 1.2904, val loss 1.5308\n",
      "step 7400: train loss 1.2849, val loss 1.5293\n",
      "step 7600: train loss 1.2827, val loss 1.5186\n",
      "step 7800: train loss 1.2784, val loss 1.5291\n",
      "step 8000: train loss 1.2783, val loss 1.5188\n",
      "step 8200: train loss 1.2765, val loss 1.5182\n",
      "step 8400: train loss 1.2688, val loss 1.5212\n",
      "step 8600: train loss 1.2686, val loss 1.5222\n",
      "step 8800: train loss 1.2638, val loss 1.5141\n",
      "step 9000: train loss 1.2596, val loss 1.5142\n",
      "step 9200: train loss 1.2600, val loss 1.5143\n",
      "step 9400: train loss 1.2607, val loss 1.5201\n",
      "step 9600: train loss 1.2545, val loss 1.5164\n",
      "step 9800: train loss 1.2543, val loss 1.5187\n",
      "step 9999: train loss 1.2454, val loss 1.5051\n",
      "Execution time: 879.63 seconds\n",
      "---------- attn type: kv-nopos\n",
      "step 0: train loss 4.3603, val loss 4.3537\n",
      "step 200: train loss 2.3775, val loss 2.3909\n",
      "step 400: train loss 2.1502, val loss 2.1800\n",
      "step 600: train loss 1.9856, val loss 2.0544\n",
      "step 800: train loss 1.8619, val loss 1.9649\n",
      "step 1000: train loss 1.7787, val loss 1.9130\n",
      "step 1200: train loss 1.7175, val loss 1.8694\n",
      "step 1400: train loss 1.6703, val loss 1.8405\n",
      "step 1600: train loss 1.6177, val loss 1.7882\n",
      "step 1800: train loss 1.5907, val loss 1.7668\n",
      "step 2000: train loss 1.5603, val loss 1.7370\n",
      "step 2200: train loss 1.5334, val loss 1.7245\n",
      "step 2400: train loss 1.5221, val loss 1.7100\n",
      "step 2600: train loss 1.5018, val loss 1.6875\n",
      "step 2800: train loss 1.4953, val loss 1.6810\n",
      "step 3000: train loss 1.4788, val loss 1.6781\n",
      "step 3200: train loss 1.4638, val loss 1.6550\n",
      "step 3400: train loss 1.4500, val loss 1.6462\n",
      "step 3600: train loss 1.4406, val loss 1.6401\n",
      "step 3800: train loss 1.4322, val loss 1.6300\n",
      "step 4000: train loss 1.4235, val loss 1.6242\n",
      "step 4200: train loss 1.4169, val loss 1.6138\n",
      "step 4400: train loss 1.4119, val loss 1.6111\n",
      "step 4600: train loss 1.4003, val loss 1.5986\n",
      "step 4800: train loss 1.4016, val loss 1.5971\n",
      "step 5000: train loss 1.3906, val loss 1.6027\n",
      "step 5200: train loss 1.3817, val loss 1.5849\n",
      "step 5400: train loss 1.3858, val loss 1.6023\n",
      "step 5600: train loss 1.3776, val loss 1.5884\n",
      "step 5800: train loss 1.3753, val loss 1.5770\n",
      "step 6000: train loss 1.3669, val loss 1.5709\n",
      "step 6200: train loss 1.3625, val loss 1.5763\n",
      "step 6400: train loss 1.3608, val loss 1.5641\n",
      "step 6600: train loss 1.3529, val loss 1.5649\n",
      "step 6800: train loss 1.3503, val loss 1.5722\n",
      "step 7000: train loss 1.3516, val loss 1.5660\n",
      "step 7200: train loss 1.3435, val loss 1.5559\n",
      "step 7400: train loss 1.3393, val loss 1.5622\n",
      "step 7600: train loss 1.3386, val loss 1.5528\n",
      "step 7800: train loss 1.3410, val loss 1.5631\n",
      "step 8000: train loss 1.3335, val loss 1.5539\n",
      "step 8200: train loss 1.3274, val loss 1.5551\n",
      "step 8400: train loss 1.3276, val loss 1.5477\n",
      "step 8600: train loss 1.3260, val loss 1.5445\n",
      "step 8800: train loss 1.3193, val loss 1.5451\n",
      "step 9000: train loss 1.3165, val loss 1.5430\n",
      "step 9200: train loss 1.3194, val loss 1.5500\n",
      "step 9400: train loss 1.3119, val loss 1.5494\n",
      "step 9600: train loss 1.3102, val loss 1.5428\n",
      "step 9800: train loss 1.3039, val loss 1.5386\n",
      "step 9999: train loss 1.3089, val loss 1.5390\n",
      "Execution time: 818.46 seconds\n",
      "step 0: train loss 4.3508, val loss 4.3563\n",
      "step 200: train loss 2.3827, val loss 2.4042\n",
      "step 400: train loss 2.1580, val loss 2.1850\n",
      "step 600: train loss 1.9813, val loss 2.0587\n",
      "step 800: train loss 1.8558, val loss 1.9697\n",
      "step 1000: train loss 1.7655, val loss 1.9061\n",
      "step 1200: train loss 1.7079, val loss 1.8663\n",
      "step 1400: train loss 1.6570, val loss 1.8286\n",
      "step 1600: train loss 1.6125, val loss 1.7896\n",
      "step 1800: train loss 1.5869, val loss 1.7682\n",
      "step 2000: train loss 1.5582, val loss 1.7368\n",
      "step 2200: train loss 1.5419, val loss 1.7196\n",
      "step 2400: train loss 1.5186, val loss 1.7070\n",
      "step 2600: train loss 1.5056, val loss 1.6948\n",
      "step 2800: train loss 1.4858, val loss 1.6829\n",
      "step 3000: train loss 1.4763, val loss 1.6615\n",
      "step 3200: train loss 1.4670, val loss 1.6631\n",
      "step 3400: train loss 1.4528, val loss 1.6436\n",
      "step 3600: train loss 1.4422, val loss 1.6352\n",
      "step 3800: train loss 1.4340, val loss 1.6309\n",
      "step 4000: train loss 1.4254, val loss 1.6324\n",
      "step 4200: train loss 1.4192, val loss 1.6184\n",
      "step 4400: train loss 1.4151, val loss 1.6049\n",
      "step 4600: train loss 1.4054, val loss 1.6058\n",
      "step 4800: train loss 1.3981, val loss 1.6031\n",
      "step 5000: train loss 1.3980, val loss 1.5992\n",
      "step 5200: train loss 1.3841, val loss 1.5973\n",
      "step 5400: train loss 1.3844, val loss 1.5945\n",
      "step 5600: train loss 1.3774, val loss 1.5808\n",
      "step 5800: train loss 1.3765, val loss 1.5908\n",
      "step 6000: train loss 1.3692, val loss 1.5765\n",
      "step 6200: train loss 1.3673, val loss 1.5750\n",
      "step 6400: train loss 1.3602, val loss 1.5698\n",
      "step 6600: train loss 1.3551, val loss 1.5749\n",
      "step 6800: train loss 1.3568, val loss 1.5762\n",
      "step 7000: train loss 1.3495, val loss 1.5732\n",
      "step 7200: train loss 1.3454, val loss 1.5659\n",
      "step 7400: train loss 1.3380, val loss 1.5629\n",
      "step 7600: train loss 1.3384, val loss 1.5665\n",
      "step 7800: train loss 1.3351, val loss 1.5606\n",
      "step 8000: train loss 1.3351, val loss 1.5575\n",
      "step 8200: train loss 1.3321, val loss 1.5534\n",
      "step 8400: train loss 1.3211, val loss 1.5567\n",
      "step 8600: train loss 1.3277, val loss 1.5528\n",
      "step 8800: train loss 1.3229, val loss 1.5527\n",
      "step 9000: train loss 1.3201, val loss 1.5585\n",
      "step 9200: train loss 1.3158, val loss 1.5490\n",
      "step 9400: train loss 1.3150, val loss 1.5517\n",
      "step 9600: train loss 1.3104, val loss 1.5511\n",
      "step 9800: train loss 1.3070, val loss 1.5525\n",
      "step 9999: train loss 1.3056, val loss 1.5570\n",
      "Execution time: 813.07 seconds\n"
     ]
    }
   ],
   "source": [
    "import time \n",
    "\n",
    "# hyperparameters\n",
    "# batch_size = 16 # how many independent sequences will we process in parallel?\n",
    "# block_size = 32 # what is the maximum context length for predictions?\n",
    "# max_iters = 10000\n",
    "# eval_interval = 200\n",
    "# learning_rate = 5e-4\n",
    "# eval_iters = 200\n",
    "# n_embd = 64 \n",
    "# n_head = 4\n",
    "# n_layer = 5\n",
    "# dropout = 0.0\n",
    "# ------------\n",
    "\n",
    "\n",
    "\n",
    "\n",
    "\n",
    "# hyperparameters\n",
    "batch_size = 64 # how many independent sequences will we process in parallel?\n",
    "block_size = 64 # what is the maximum context length for predictions?\n",
    "max_iters = 10000\n",
    "eval_interval = 200\n",
    "learning_rate = 5e-4\n",
    "eval_iters = 200\n",
    "n_embd = 192\n",
    "n_head = 3\n",
    "n_layer = 6\n",
    "dropout = 0.2\n",
    "# ------------\n",
    "\n",
    "\n",
    "# batch_size = 64 # how many independent sequences will we process in parallel?\n",
    "# block_size = 8 # what is the maximum context length for predictions?\n",
    "# max_iters = 10000\n",
    "# eval_interval = 200\n",
    "# learning_rate = 5e-4\n",
    "# eval_iters = 200\n",
    "# n_embd = 192\n",
    "# n_head = 3\n",
    "# n_layer = 6\n",
    "# dropout = 0.2\n",
    "# ------------\n",
    "\n",
    "\n",
    "\n",
    "\n",
    "# batch_size = 64 # how many independent sequences will we process in parallel?\n",
    "# block_size = 32 # what is the maximum context length for predictions?\n",
    "# max_iters = 10000\n",
    "# eval_interval = 200\n",
    "# learning_rate = 5e-3\n",
    "# eval_iters = 200\n",
    "# n_embd = 64\n",
    "# n_head = 1\n",
    "# n_layer = 1\n",
    "# dropout = 0.2\n",
    "\n",
    "\n",
    "\n",
    "# with open(f'drive/MyDrive/KV_Transformer_Res/lr_{learning_rate}_batch_size_{batch_size}_block_size_{block_size}.pkl', 'rb') as f:\n",
    "#   results = pickle.load(f)\n",
    "\n",
    "\n",
    "# print(results.keys())\n",
    "# xx\n",
    "\n",
    "\n",
    "\n",
    "\n",
    "# batch_size = 128 # how many independent sequences will we process in parallel?\n",
    "# block_size = 128 # what is the maximum context length for predictions?\n",
    "# max_iters = 10000\n",
    "# eval_interval = 200\n",
    "# learning_rate = 5e-3\n",
    "# eval_iters = 200\n",
    "# n_embd = 64\n",
    "# n_head = 2\n",
    "# n_layer = 2\n",
    "# dropout = 0.2\n",
    "\n",
    "\n",
    "\n",
    "\n",
    "\n",
    "\n",
    "num_runs = 2\n",
    "\n",
    "sequence_length = block_size\n",
    "\n",
    "results = {}\n",
    "\n",
    "# with open(f'./results_new/nlp/lr_{learning_rate}_batch_size_{batch_size}_block_size_{block_size}_gpt.pkl', 'rb') as f:\n",
    "#     results = pickle.load(f)\n",
    "\n",
    "\n",
    "# for norm_type in ['std', 'L2', 'sqrt', 'sqrt+std', 'layernorm', 'no-sm-std', 'no-sm-layernorm']:\n",
    "for attn_type in ['kv', 'qkv', 'kv-nopos']:\n",
    "\n",
    "\n",
    "    print(f'---------- attn type: {attn_type}')\n",
    "\n",
    "    for run_no in range(num_runs):\n",
    "\n",
    "      results[(attn_type, run_no)] = {}\n",
    "      results[(attn_type, run_no)]['time_spent'] = []  \n",
    "      results[(attn_type, run_no)]['train_loss_history'] = []  \n",
    "      results[(attn_type, run_no)]['test_loss_history'] = []  \n",
    "\n",
    "      start_time = time.time()\n",
    "\n",
    "      model = BigramLanguageModel()\n",
    "      model= model.to(device)\n",
    "\n",
    "      # print the number of parameters in the model\n",
    "      # print(sum(p.numel() for p in model.parameters())/1e6, 'M parameters')\n",
    "\n",
    "      # create a PyTorch optimizer\n",
    "      optimizer = torch.optim.AdamW(model.parameters(), lr=learning_rate)\n",
    "\n",
    "      for iter in range(max_iters):\n",
    "\n",
    "          # every once in a while evaluate the loss on train and val sets\n",
    "          if iter % eval_interval == 0 or iter == max_iters - 1:\n",
    "              losses = estimate_loss()\n",
    "              print(f\"step {iter}: train loss {losses['train']:.4f}, val loss {losses['val']:.4f}\")\n",
    "              \n",
    "              # logging\n",
    "              results[(attn_type, run_no)]['test_loss_history'].append(losses['val'])\n",
    "              results[(attn_type, run_no)]['train_loss_history'].append(losses['train'])\n",
    "              results[(attn_type, run_no)]['time_spent'].append(time.time() - start_time)\n",
    "\n",
    "          # sample a batch of data\n",
    "          xb, yb = get_batch('train')\n",
    "\n",
    "          # evaluate the loss\n",
    "          logits, loss = model(xb, yb)\n",
    "          optimizer.zero_grad(set_to_none=True)\n",
    "          loss.backward() #retain_graph=True)\n",
    "          optimizer.step()\n",
    "\n",
    "                    \n",
    "\n",
    "      print('Execution time:', '{:5.2f}'.format(time.time() - start_time), 'seconds')\n",
    "\n",
    "\n",
    "\n",
    "      # # generate from the model\n",
    "\n",
    "      # context = torch.zeros((1, 1), dtype=torch.long, device=device)\n",
    "      # print(decode(model.generate(context, max_new_tokens=2000)[0].tolist()))\n",
    "\n",
    "\n",
    "\n",
    "\n",
    "      if not os.path.exists(f'./results_new/'):\n",
    "        os.mkdir(f'./results_new/')\n",
    "\n",
    "\n",
    "\n",
    "      with open(f'./results_new/nlp/lr_{learning_rate}_batch_size_{batch_size}_block_size_{block_size}_gpt.pkl', 'wb') as f:\n",
    "        pickle.dump(results, f)"
   ]
  },
  {
   "cell_type": "code",
   "execution_count": null,
   "metadata": {
    "id": "CTIlatHRaGGb"
   },
   "outputs": [],
   "source": [
    "results.keys()"
   ]
  },
  {
   "cell_type": "code",
   "execution_count": null,
   "metadata": {
    "id": "Ccub9QBwaH6P"
   },
   "outputs": [],
   "source": []
  },
  {
   "cell_type": "code",
   "execution_count": null,
   "metadata": {
    "id": "-sqV4xJgfFL7"
   },
   "outputs": [],
   "source": [
    "# with open(f'drive/MyDrive/KV_Transformer_Res/lr_{learning_rate}_batch_size_{batch_size}_block_size_{block_size}.pkl', 'rb') as f:\n",
    "#   results = pickle.load(f)"
   ]
  },
  {
   "cell_type": "code",
   "execution_count": null,
   "metadata": {
    "id": "f8tL3EbeAoSW"
   },
   "outputs": [],
   "source": [
    "# results = {**results, **results_tmp}"
   ]
  },
  {
   "cell_type": "code",
   "execution_count": null,
   "metadata": {
    "id": "UFVFGUqYgY5P"
   },
   "outputs": [],
   "source": [
    "# compute the averages \n",
    "results_avg = {}\n",
    "\n",
    "for key, _ in results.keys():\n",
    "    results_avg[key] = {}\n",
    "\n",
    "for key in results.keys():\n",
    "       for x,y in results[key].items():\n",
    "          # import pdb; pdb.set_trace()\n",
    "          if x in results_avg[key[0]]:\n",
    "            results_avg[key[0]][x] += np.array(y)\n",
    "          else: \n",
    "            results_avg[key[0]][x] = np.array(y)\n",
    "    \n",
    "\n",
    "# compute the avg\n",
    "for key,val in results_avg.items():\n",
    "      for x, y in val.items():\n",
    "          y = np.array(y)\n",
    "          results_avg[key][x] = y / num_runs"
   ]
  },
  {
   "cell_type": "code",
   "execution_count": null,
   "metadata": {
    "colab": {
     "base_uri": "https://localhost:8080/",
     "height": 487
    },
    "id": "IDOFbWMKamgX",
    "outputId": "d51e6eff-03ba-431c-d747-a80dffa30e86"
   },
   "outputs": [],
   "source": [
    "fig, axs = plt.subplots(1,2) #, sharex=True, sharey=True)\n",
    "\n",
    "colors = ['k', 'b', 'c', 'r', 'y--', 'g--', 'k--', 'g']\n",
    "\n",
    "for i,measure in enumerate(['train_loss_history', 'test_loss_history']):\n",
    "  for (key,val), c in zip(results_avg.items(), colors):\n",
    "    axs[i].plot(results_avg[key][measure], c)\n",
    "    axs[i].set(title='val' if i else 'train', xlabel='Training step', ylabel='Loss' if i==0 else None)\n",
    "    if i:\n",
    "        axs[i].legend(list(results_avg.keys())) \n",
    "        # axs[i].set(xticks=)\n",
    "    axs[i].grid('on')\n",
    "\n",
    "\n",
    "t = len(results_avg[key][measure])\n",
    "b = [str(j*eval_interval) for j in range(0,t,10)]\n",
    "a = np.arange(0,t,10)\n",
    "\n",
    "plt.setp(axs, xticks=a, xticklabels= b)\n",
    "\n",
    "fig.tight_layout()\n",
    "plt.show()"
   ]
  },
  {
   "cell_type": "code",
   "execution_count": null,
   "metadata": {
    "colab": {
     "base_uri": "https://localhost:8080/",
     "height": 487
    },
    "id": "tEUvJqSsxcFl",
    "outputId": "e89aeca2-5099-4bf6-9dbb-e0e9dacc156b"
   },
   "outputs": [],
   "source": [
    "fig, axs = plt.subplots(1,2) #, sharex=True, sharey=True)\n",
    "\n",
    "# colors = ['k', 'b', 'c', 'r', 'y', 'g']\n",
    "\n",
    "for i,measure in enumerate(['train_loss_history', 'test_loss_history']):\n",
    "  for (key,val), c in zip(results_avg.items(), colors):\n",
    "    axs[i].plot(results_avg[key]['time_spent'], results_avg[key][measure], c)\n",
    "    axs[i].set(title='val' if i else 'train', xlabel='Training time (sec)', ylabel='Loss' if i==0 else None)\n",
    "    if i:\n",
    "        axs[i].legend(list(results_avg.keys())) \n",
    "        # axs[i].set(xticks=)\n",
    "    axs[i].grid('on')\n",
    "\n",
    "\n",
    "# t = len(results_avg[key][measure])\n",
    "# b = [str(j*eval_interval) for j in range(0,t,10)]\n",
    "# a = np.arange(0,t,10)\n",
    "\n",
    "# plt.setp(axs, xticks=a, xticklabels= b)\n",
    "\n",
    "fig.tight_layout()\n",
    "plt.show()"
   ]
  },
  {
   "cell_type": "code",
   "execution_count": null,
   "metadata": {
    "id": "8yO2qqIUt5FI"
   },
   "outputs": [],
   "source": [
    "# start_time = time.time()\n",
    "# for i in range(1):\n",
    "#   input = torch.randint(0, 63, (512,32)).to(device)\n",
    "#   macs, params = profile(model, inputs=(input, ))\n",
    "#   print(macs/1e6, params/1e6)\n",
    "# print('Execution time:', '{:5.2f}'.format(time.time() - start_time), 'seconds')"
   ]
  },
  {
   "cell_type": "code",
   "execution_count": null,
   "metadata": {
    "colab": {
     "base_uri": "https://localhost:8080/"
    },
    "id": "XYUcrsV4UIra",
    "outputId": "2673ad18-1187-46a2-af8a-20c63c486f78"
   },
   "outputs": [],
   "source": [
    "context = torch.zeros((1, 1), dtype=torch.long, device=device)\n",
    "print(decode(model.generate(context, max_new_tokens=2000)[0].tolist()))\n"
   ]
  },
  {
   "cell_type": "code",
   "execution_count": null,
   "metadata": {
    "id": "tWz21-QrWCOf"
   },
   "outputs": [],
   "source": [
    "ccmodel.generate"
   ]
  },
  {
   "cell_type": "code",
   "execution_count": null,
   "metadata": {
    "id": "A4NYJ9OV1XBI"
   },
   "outputs": [],
   "source": [
    "s"
   ]
  },
  {
   "cell_type": "code",
   "execution_count": null,
   "metadata": {
    "id": "E2yEn0nOAPtc"
   },
   "outputs": [],
   "source": []
  }
 ],
 "metadata": {
  "accelerator": "GPU",
  "colab": {
   "provenance": []
  },
  "gpuClass": "standard",
  "kernelspec": {
   "display_name": "Python 3 (ipykernel)",
   "language": "python",
   "name": "python3"
  },
  "language_info": {
   "codemirror_mode": {
    "name": "ipython",
    "version": 3
   },
   "file_extension": ".py",
   "mimetype": "text/x-python",
   "name": "python",
   "nbconvert_exporter": "python",
   "pygments_lexer": "ipython3",
   "version": "3.12.2"
  }
 },
 "nbformat": 4,
 "nbformat_minor": 4
}
